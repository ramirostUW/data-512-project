{
 "cells": [
  {
   "cell_type": "markdown",
   "metadata": {
    "azdata_cell_guid": "2414fd69-f46c-4a32-a626-443e65b26f5d",
    "language": "python"
   },
   "source": [
    "# Final Analysis\n",
    "\n",
    "This notebook is the last part of my project on analyzing the relationship between wildfire smoke and labor profits in Clovis, New Mexico. It is a continuation of the work done for the presentation for Clovis's city council, meant to be the last part to add to the final report.\n",
    "\n",
    "Unlike most Jupyter Notebooks, this notebook is meant to be used with an R kernel rather than a Python kernel, largely to take advantage of R's vast suite of tools for statistical analysis. "
   ]
  },
  {
   "cell_type": "code",
   "execution_count": 3,
   "metadata": {
    "azdata_cell_guid": "10ff0d18-c7ab-4b12-ac0d-775e47ad14a4",
    "language": "sql"
   },
   "outputs": [],
   "source": [
    "data_files_folder <- \"processed_input_data/\""
   ]
  },
  {
   "cell_type": "code",
   "execution_count": 8,
   "metadata": {
    "azdata_cell_guid": "2a8c48da-0988-4647-9073-9419b9ce5eb2",
    "language": "sql"
   },
   "outputs": [
    {
     "data": {
      "text/html": [
       "<table class=\"dataframe\">\n",
       "<caption>A data.frame: 13 × 5</caption>\n",
       "<thead>\n",
       "\t<tr><th scope=col>year</th><th scope=col>smoke_days</th><th scope=col>num_WF</th><th scope=col>payroll</th><th scope=col>rate_of_change_pr</th></tr>\n",
       "\t<tr><th scope=col>&lt;int&gt;</th><th scope=col>&lt;int&gt;</th><th scope=col>&lt;int&gt;</th><th scope=col>&lt;int&gt;</th><th scope=col>&lt;dbl&gt;</th></tr>\n",
       "</thead>\n",
       "<tbody>\n",
       "\t<tr><td>2007</td><td> 7</td><td>3976</td><td>17053627</td><td> 1490691</td></tr>\n",
       "\t<tr><td>2008</td><td> 7</td><td>3650</td><td>20152738</td><td> 3099111</td></tr>\n",
       "\t<tr><td>2009</td><td> 7</td><td>3793</td><td>22019678</td><td> 1866940</td></tr>\n",
       "\t<tr><td>2010</td><td> 1</td><td>3796</td><td>23200037</td><td> 1180359</td></tr>\n",
       "\t<tr><td>2011</td><td>29</td><td>5636</td><td>24059207</td><td>  859170</td></tr>\n",
       "\t<tr><td>2012</td><td>50</td><td>4063</td><td>27395275</td><td> 3336068</td></tr>\n",
       "\t<tr><td>2013</td><td>34</td><td>3305</td><td>25928458</td><td>-1466817</td></tr>\n",
       "\t<tr><td>2014</td><td> 8</td><td>3568</td><td>31730011</td><td> 5801553</td></tr>\n",
       "\t<tr><td>2015</td><td>11</td><td>4110</td><td>33305469</td><td> 1575458</td></tr>\n",
       "\t<tr><td>2016</td><td>10</td><td>4725</td><td>34733515</td><td> 1428046</td></tr>\n",
       "\t<tr><td>2017</td><td>32</td><td>4765</td><td>35844278</td><td> 1110763</td></tr>\n",
       "\t<tr><td>2018</td><td>23</td><td>4596</td><td>35909989</td><td>   65711</td></tr>\n",
       "\t<tr><td>2019</td><td>13</td><td>4050</td><td>41286863</td><td> 5376874</td></tr>\n",
       "</tbody>\n",
       "</table>\n"
      ],
      "text/latex": [
       "A data.frame: 13 × 5\n",
       "\\begin{tabular}{lllll}\n",
       " year & smoke\\_days & num\\_WF & payroll & rate\\_of\\_change\\_pr\\\\\n",
       " <int> & <int> & <int> & <int> & <dbl>\\\\\n",
       "\\hline\n",
       "\t 2007 &  7 & 3976 & 17053627 &  1490691\\\\\n",
       "\t 2008 &  7 & 3650 & 20152738 &  3099111\\\\\n",
       "\t 2009 &  7 & 3793 & 22019678 &  1866940\\\\\n",
       "\t 2010 &  1 & 3796 & 23200037 &  1180359\\\\\n",
       "\t 2011 & 29 & 5636 & 24059207 &   859170\\\\\n",
       "\t 2012 & 50 & 4063 & 27395275 &  3336068\\\\\n",
       "\t 2013 & 34 & 3305 & 25928458 & -1466817\\\\\n",
       "\t 2014 &  8 & 3568 & 31730011 &  5801553\\\\\n",
       "\t 2015 & 11 & 4110 & 33305469 &  1575458\\\\\n",
       "\t 2016 & 10 & 4725 & 34733515 &  1428046\\\\\n",
       "\t 2017 & 32 & 4765 & 35844278 &  1110763\\\\\n",
       "\t 2018 & 23 & 4596 & 35909989 &    65711\\\\\n",
       "\t 2019 & 13 & 4050 & 41286863 &  5376874\\\\\n",
       "\\end{tabular}\n"
      ],
      "text/markdown": [
       "\n",
       "A data.frame: 13 × 5\n",
       "\n",
       "| year &lt;int&gt; | smoke_days &lt;int&gt; | num_WF &lt;int&gt; | payroll &lt;int&gt; | rate_of_change_pr &lt;dbl&gt; |\n",
       "|---|---|---|---|---|\n",
       "| 2007 |  7 | 3976 | 17053627 |  1490691 |\n",
       "| 2008 |  7 | 3650 | 20152738 |  3099111 |\n",
       "| 2009 |  7 | 3793 | 22019678 |  1866940 |\n",
       "| 2010 |  1 | 3796 | 23200037 |  1180359 |\n",
       "| 2011 | 29 | 5636 | 24059207 |   859170 |\n",
       "| 2012 | 50 | 4063 | 27395275 |  3336068 |\n",
       "| 2013 | 34 | 3305 | 25928458 | -1466817 |\n",
       "| 2014 |  8 | 3568 | 31730011 |  5801553 |\n",
       "| 2015 | 11 | 4110 | 33305469 |  1575458 |\n",
       "| 2016 | 10 | 4725 | 34733515 |  1428046 |\n",
       "| 2017 | 32 | 4765 | 35844278 |  1110763 |\n",
       "| 2018 | 23 | 4596 | 35909989 |    65711 |\n",
       "| 2019 | 13 | 4050 | 41286863 |  5376874 |\n",
       "\n"
      ],
      "text/plain": [
       "   year smoke_days num_WF payroll  rate_of_change_pr\n",
       "1  2007  7         3976   17053627  1490691         \n",
       "2  2008  7         3650   20152738  3099111         \n",
       "3  2009  7         3793   22019678  1866940         \n",
       "4  2010  1         3796   23200037  1180359         \n",
       "5  2011 29         5636   24059207   859170         \n",
       "6  2012 50         4063   27395275  3336068         \n",
       "7  2013 34         3305   25928458 -1466817         \n",
       "8  2014  8         3568   31730011  5801553         \n",
       "9  2015 11         4110   33305469  1575458         \n",
       "10 2016 10         4725   34733515  1428046         \n",
       "11 2017 32         4765   35844278  1110763         \n",
       "12 2018 23         4596   35909989    65711         \n",
       "13 2019 13         4050   41286863  5376874         "
      ]
     },
     "metadata": {},
     "output_type": "display_data"
    }
   ],
   "source": [
    "metrics_for_analysis <- read.csv(paste0(data_files_folder, \"65_plus_smoke_days_vs_trendline_changeRates.csv\"))\n",
    "metrics_for_analysis"
   ]
  },
  {
   "cell_type": "code",
   "execution_count": 10,
   "metadata": {
    "scrolled": true
   },
   "outputs": [
    {
     "data": {
      "image/png": "[encoded data removed]",
      "text/plain": [
       "plot without title"
      ]
     },
     "metadata": {
      "image/png": {
       "height": 420,
       "width": 420
      }
     },
     "output_type": "display_data"
    }
   ],
   "source": [
    "#Basic recreation of the last notebook's plot, for visual verification\n",
    "plot(metrics_for_analysis$smoke_days, metrics_for_analysis$rate_of_change_pr)\n",
    "abline(lm(metrics_for_analysis$rate_of_change_pr ~ metrics_for_analysis$smoke_days))"
   ]
  },
  {
   "cell_type": "code",
   "execution_count": 11,
   "metadata": {},
   "outputs": [
    {
     "data": {
      "text/plain": [
       "\n",
       "\tPearson's product-moment correlation\n",
       "\n",
       "data:  metrics_for_analysis$smoke_days and metrics_for_analysis$rate_of_change_pr\n",
       "t = -0.84511, df = 11, p-value = 0.4161\n",
       "alternative hypothesis: true correlation is not equal to 0\n",
       "95 percent confidence interval:\n",
       " -0.7023505  0.3519482\n",
       "sample estimates:\n",
       "       cor \n",
       "-0.2469192 \n"
      ]
     },
     "metadata": {},
     "output_type": "display_data"
    }
   ],
   "source": [
    "cor.test(metrics_for_analysis$smoke_days, metrics_for_analysis$rate_of_change_pr)"
   ]
  },
  {
   "cell_type": "code",
   "execution_count": 12,
   "metadata": {},
   "outputs": [
    {
     "data": {
      "image/png": "[encoded data removed]",
      "text/plain": [
       "plot without title"
      ]
     },
     "metadata": {
      "image/png": {
       "height": 420,
       "width": 420
      }
     },
     "output_type": "display_data"
    }
   ],
   "source": [
    "#Basic recreation of the last notebook's second plot, for visual verification\n",
    "plot(metrics_for_analysis$num_WF, metrics_for_analysis$rate_of_change_pr)\n",
    "abline(lm(metrics_for_analysis$rate_of_change_pr ~ metrics_for_analysis$num_WF))"
   ]
  },
  {
   "cell_type": "code",
   "execution_count": 13,
   "metadata": {},
   "outputs": [
    {
     "data": {
      "text/plain": [
       "\n",
       "\tPearson's product-moment correlation\n",
       "\n",
       "data:  metrics_for_analysis$num_WF and metrics_for_analysis$rate_of_change_pr\n",
       "t = -0.73815, df = 11, p-value = 0.4759\n",
       "alternative hypothesis: true correlation is not equal to 0\n",
       "95 percent confidence interval:\n",
       " -0.6861042  0.3791210\n",
       "sample estimates:\n",
       "       cor \n",
       "-0.2172445 \n"
      ]
     },
     "metadata": {},
     "output_type": "display_data"
    }
   ],
   "source": [
    "cor.test(metrics_for_analysis$num_WF, metrics_for_analysis$rate_of_change_pr)"
   ]
  }
 ],
 "metadata": {
  "extensions": {
   "azuredatastudio": {
    "version": 1,
    "views": []
   }
  },
  "kernelspec": {
   "display_name": "R",
   "language": "R",
   "name": "ir"
  },
  "language_info": {
   "codemirror_mode": "r",
   "file_extension": ".r",
   "mimetype": "text/x-r-source",
   "name": "R",
   "pygments_lexer": "r",
   "version": "3.6.2"
  }
 },
 "nbformat": 4,
 "nbformat_minor": 2
}
