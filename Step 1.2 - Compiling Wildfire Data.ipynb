{
    "metadata": {
        "kernelspec": {
            "name": "python3",
            "display_name": "Python 3",
            "language": "python"
        },
        "language_info": {
            "name": "python",
            "version": "3.11.1",
            "mimetype": "text/x-python",
            "codemirror_mode": {
                "name": "ipython",
                "version": 3
            },
            "pygments_lexer": "ipython3",
            "nbconvert_exporter": "python",
            "file_extension": ".py"
        },
        "extensions": {
            "azuredatastudio": {
                "version": 1,
                "views": []
            }
        }
    },
    "nbformat_minor": 2,
    "nbformat": 4,
    "cells": [
        {
            "cell_type": "markdown",
            "source": [
                "# Compiling Wildfire Data\n",
                "\n",
                "This notebook takes the individual JSONs each representing a single \"feature\" (IE wildfire) produced by the Step 1 Notebook and compiles all relevant fields and calculations into invidual CSV files so that they can later be used to produce visualizations."
            ],
            "metadata": {
                "azdata_cell_guid": "e28c0c99-cd80-4bf7-a7c1-6a11dc8205bd"
            },
            "attachments": {}
        },
        {
            "cell_type": "code",
            "source": [
                "#This defines all of the packages and constants to be used in the notebook\r\n",
                "\r\n",
                "import os, json, time\r\n",
                "from pyproj import Transformer, Geod\r\n",
                "from wildfire.Reader import Reader as WFReader\r\n",
                "import pandas as pd\r\n",
                "import geojson\r\n",
                "\r\n",
                "feature_list_folder =  \"feature_list/\"\r\n",
                "output_folder = \"common_analysis_data/\"\r\n",
                "#CLOVIS coordinates according to wikipedia: 34.4048° N, 103.2052° W\r\n",
                "CITY_LOCATIONS = {\r\n",
                "    'clovis' :     {'city'   : 'Clovis',\r\n",
                "                       'latlon' : [34.4048, -103.2052] } \r\n",
                "}"
            ],
            "metadata": {
                "azdata_cell_guid": "5076dbfe-d2fd-43d7-a428-7a04ba01e8a6",
                "tags": [],
                "language": "python"
            },
            "outputs": [],
            "execution_count": 10
        },
        {
            "cell_type": "code",
            "source": [
                "#To make things easier, I decided to compile the dataset into three separate CSVs.\r\n",
                "#I tried to break them up so each one would have a roughly similar amount of JSONs,\r\n",
                "#checking the sizes using File Explorer's file counts. The step 1 notebook breaks up\r\n",
                "#the data into year-based subfolders, so I used years as my criteria for breaking\r\n",
                "#the data up into chunks. The decision to break up the data was mostly to make the indvidual\r\n",
                "#cells' runtimes more manageable.\r\n",
                "#\r\n",
                "#The first chunk starts in 1963 because the directions in the assignment asked us\r\n",
                "#to only look at wildfires that happened between 1963 and 2023.\r\n",
                "\r\n",
                "feature_list_first_chunk = range(1963,2003)\r\n",
                "\r\n",
                "feature_list_second_chunk = range(2003,2013)\r\n",
                "\r\n",
                "feature_list_third_chunk = range(2013,2023)"
            ],
            "metadata": {
                "azdata_cell_guid": "3f8ac4a9-a6cc-4a19-af44-1fb0ee5e4918",
                "language": "python"
            },
            "outputs": [],
            "execution_count": 11
        },
        {
            "cell_type": "markdown",
            "source": [
                "The below cell was provided by my 512 Professor, David MacDonald, as part of the example code for the assignment (licensed under the Creative Commons licence). It contains helper functions that take in a latitude-longitude point and ring data from a wildfire, and output either the distance between the closest part of the wildfire and that point, or the average distance between the entire wildfire and that point. These calculations will be stored in the CSVs made by this notebook for use in visualizations."
            ],
            "metadata": {
                "azdata_cell_guid": "52af64cc-ed30-4a14-be60-306701920b48"
            },
            "attachments": {}
        },
        {
            "cell_type": "code",
            "source": [
                "#\r\n",
                "#    Transform feature geometry data\r\n",
                "#\r\n",
                "#    The function takes one parameter, a list of ESRI:102008 coordinates that will be transformed to EPSG:4326\r\n",
                "#    The function returns a list of coordinates in EPSG:4326\r\n",
                "def convert_ring_to_epsg4326(ring_data=None):\r\n",
                "    converted_ring = list()\r\n",
                "    #\r\n",
                "    # We use a pyproj transformer that converts from ESRI:102008 to EPSG:4326 to transform the list of coordinates\r\n",
                "    to_epsg4326 = Transformer.from_crs(\"ESRI:102008\",\"EPSG:4326\")\r\n",
                "    # We'll run through the list transforming each ESRI:102008 x,y coordinate into a decimal degree lat,lon\r\n",
                "    for coord in ring_data:\r\n",
                "        if(type(coord) != list):\r\n",
                "            print(type(coord))\r\n",
                "            print(len(coord))\r\n",
                "            print(coord)\r\n",
                "        lat,lon = to_epsg4326.transform(coord[0],coord[1])\r\n",
                "        new_coord = lat,lon\r\n",
                "        converted_ring.append(new_coord)\r\n",
                "    return converted_ring\r\n",
                "\r\n",
                "#    \r\n",
                "#    The function takes two parameters\r\n",
                "#        A place - which is coordinate point (list or tuple with two items, (lat,lon) in decimal degrees EPSG:4326\r\n",
                "#        Ring_data - a list of decimal degree coordinates for the fire boundary\r\n",
                "#\r\n",
                "#    The function returns a list containing the shortest distance to the perimeter and the point where that is\r\n",
                "#\r\n",
                "def shortest_distance_from_place_to_fire_perimeter(place=None,ring_data=None):\r\n",
                "    # convert the ring data to the right coordinate system\r\n",
                "    ring = convert_ring_to_epsg4326(ring_data)    \r\n",
                "    # create a epsg4326 compliant object - which is what the WGS84 ellipsoid is\r\n",
                "    geodcalc = Geod(ellps='WGS84')\r\n",
                "    closest_point = list()\r\n",
                "    # run through each point in the converted ring data\r\n",
                "    for point in ring:\r\n",
                "        # calculate the distance\r\n",
                "        d = geodcalc.inv(place[1],place[0],point[1],point[0])\r\n",
                "        # convert the distance to miles\r\n",
                "        distance_in_miles = d[2]*0.00062137\r\n",
                "        # if it's closer to the city than the point we have, save it\r\n",
                "        if not closest_point:\r\n",
                "            closest_point.append(distance_in_miles)\r\n",
                "            closest_point.append(point)\r\n",
                "        elif closest_point and closest_point[0]>distance_in_miles:\r\n",
                "            closest_point = list()\r\n",
                "            closest_point.append(distance_in_miles)\r\n",
                "            closest_point.append(point)\r\n",
                "    return closest_point\r\n",
                "\r\n",
                "\r\n",
                "\r\n",
                "#    \r\n",
                "#    The function takes two parameters\r\n",
                "#        A place - which is coordinate point (list or tuple with two items, (lat,lon) in decimal degrees EPSG:4326\r\n",
                "#        Ring_data - a list of decimal degree coordinates for the fire boundary\r\n",
                "#\r\n",
                "#    The function returns the average miles from boundary to the place\r\n",
                "#\r\n",
                "def average_distance_from_place_to_fire_perimeter(place=None,ring_data=None):\r\n",
                "    # convert the ring data to the right coordinate system\r\n",
                "    ring = convert_ring_to_epsg4326(ring_data)    \r\n",
                "    # create a epsg4326 compliant object - which is what the WGS84 ellipsoid is\r\n",
                "    geodcalc = Geod(ellps='WGS84')\r\n",
                "    # create a list to store our results\r\n",
                "    distances_in_meters = list()\r\n",
                "    # run through each point in the converted ring data\r\n",
                "    for point in ring:\r\n",
                "        # calculate the distance\r\n",
                "        d = geodcalc.inv(place[1],place[0],point[1],point[0])\r\n",
                "        distances_in_meters.append(d[2])\r\n",
                "    #print(\"Got the following list:\",distances_in_meters)\r\n",
                "    # convert meters to miles\r\n",
                "    distances_in_miles = [meters*0.00062137 for meters in distances_in_meters]\r\n",
                "    # the esri polygon shape (the ring) requires that the first and last coordinates be identical to 'close the region\r\n",
                "    # we remove one of them so that we don't bias our average by having two of the same point\r\n",
                "    distances_in_miles_no_dup = distances_in_miles[1:]\r\n",
                "    # now, average miles\r\n",
                "    average = sum(distances_in_miles_no_dup)/len(distances_in_miles_no_dup)\r\n",
                "    return average\r\n",
                ""
            ],
            "metadata": {
                "azdata_cell_guid": "c2272bc1-7290-447a-a026-472cda5ff491",
                "language": "python"
            },
            "outputs": [],
            "execution_count": 12
        },
        {
            "cell_type": "markdown",
            "source": [
                "The below three cells are almost identical to each other, with each one processing one of the three \"chunks\" into a CSV file. The bottom two cells have an exception catcher because a minority of the JSONs u them are structured slightly differently from the rest (an issue that became apparent after a first run of the second cell failed midway)."
            ],
            "metadata": {
                "azdata_cell_guid": "1acc3974-79c6-425f-a018-bbcae2ebbc8b"
            },
            "attachments": {}
        },
        {
            "cell_type": "code",
            "source": [
                "first_chunk_json_paths = []\r\n",
                "\r\n",
                "for year in feature_list_first_chunk:\r\n",
                "    year_folder = feature_list_folder + str(year) + \"/in_range/\"\r\n",
                "    if os.path.exists(year_folder):\r\n",
                "        first_chunk_json_paths = first_chunk_json_paths + [year_folder + e for e in os.listdir(year_folder)]\r\n",
                "        #first_chunk_json_paths.append(year_folder + os.listdir(year_folder))\r\n",
                "\r\n",
                "print(\"Number of features in this chunk:\")\r\n",
                "print(len(first_chunk_json_paths))\r\n",
                "\r\n",
                "place = CITY_LOCATIONS[\"clovis\"]\r\n",
                "my_index = 0;\r\n",
                "first_chunk_data = []\r\n",
                "for wf_feature_path in first_chunk_json_paths:\r\n",
                "\r\n",
                "    if (my_index % 500) == 0:\r\n",
                "        print(f\"Saved {my_index} features\")\r\n",
                "    \r\n",
                "    f = open(wf_feature_path) \r\n",
                "    wf_feature = json.load(f)\r\n",
                "    wf_year = wf_feature['attributes']['Fire_Year']\r\n",
                "    wf_name = wf_feature['attributes']['Listed_Fire_Names'].split(',')[0]\r\n",
                "    wf_size = wf_feature['attributes']['GIS_Acres']\r\n",
                "    wf_type = wf_feature['attributes']['Assigned_Fire_Type']\r\n",
                "    ring_data = wf_feature['geometry']['rings'][0]\r\n",
                "\r\n",
                "    #\r\n",
                "    #     Compute using the shortest distance to any point on the perimeter\r\n",
                "    #\r\n",
                "    distance = shortest_distance_from_place_to_fire_perimeter(place['latlon'],ring_data)\r\n",
                "    avg_distance = average_distance_from_place_to_fire_perimeter(place['latlon'],ring_data)\r\n",
                "\r\n",
                "    wf_feature_dict  = {}\r\n",
                "    wf_feature_dict['index'] = wf_feature_path.replace(feature_list_folder + str(year) + \"/in_range/\", \"\").replace(\".json\", \"\")\r\n",
                "    wf_feature_dict['year'] = wf_year\r\n",
                "    wf_feature_dict['name'] = wf_name\r\n",
                "    wf_feature_dict['size'] = wf_size\r\n",
                "    wf_feature_dict['type'] = wf_type\r\n",
                "    wf_feature_dict['shortest_distance_dist'] = distance[0]\r\n",
                "    wf_feature_dict['shortest_distance_x'] = distance[1][0]\r\n",
                "    wf_feature_dict['shortest_distance_y'] = distance[1][1]\r\n",
                "    wf_feature_dict['average_distance'] = avg_distance\r\n",
                "\r\n",
                "\r\n",
                "\r\n",
                "    first_chunk_data.append(wf_feature_dict)\r\n",
                "\r\n",
                "    my_index = my_index + 1\r\n",
                "    #print(f\"The closest distance of fire '{wf_name}' ({wf_size:1.2f} acres) from {wf_year} was {distance[0]:1.2f} miles to {place['city']}\")\r\n",
                "    #print(f\"\\tThe cloest perimiter point lat,lon {distance[1][0]},{distance[1][1]}\")\r\n",
                "\r\n",
                "print(\"Length of data dict\")\r\n",
                "print(len(first_chunk_data))\r\n",
                "\r\n",
                "first_chunk_df = pd.DataFrame(first_chunk_data)\r\n",
                "first_chunk_df.to_csv(output_folder + \"first_chunk_df.csv\", index = False)"
            ],
            "metadata": {
                "azdata_cell_guid": "74344ce1-4ac2-4092-9a92-911e6ade8c97",
                "tags": [],
                "language": "python"
            },
            "outputs": [
                {
                    "output_type": "stream",
                    "name": "stdout",
                    "text": "Number of features in this chunk:\n46743\nSaved 0 features\n"
                },
                {
                    "output_type": "stream",
                    "name": "stdout",
                    "text": "Saved 500 features\n"
                },
                {
                    "output_type": "stream",
                    "name": "stdout",
                    "text": "Saved 1000 features\n"
                },
                {
                    "output_type": "stream",
                    "name": "stdout",
                    "text": "Saved 1500 features\n"
                },
                {
                    "output_type": "stream",
                    "name": "stdout",
                    "text": "Saved 2000 features\n"
                },
                {
                    "output_type": "stream",
                    "name": "stdout",
                    "text": "Saved 2500 features\n"
                },
                {
                    "output_type": "stream",
                    "name": "stdout",
                    "text": "Saved 3000 features\n"
                },
                {
                    "output_type": "stream",
                    "name": "stdout",
                    "text": "Saved 3500 features\n"
                },
                {
                    "output_type": "stream",
                    "name": "stdout",
                    "text": "Saved 4000 features\n"
                },
                {
                    "output_type": "stream",
                    "name": "stdout",
                    "text": "Saved 4500 features\n"
                },
                {
                    "output_type": "stream",
                    "name": "stdout",
                    "text": "Saved 5000 features\n"
                },
                {
                    "output_type": "stream",
                    "name": "stdout",
                    "text": "Saved 5500 features\n"
                },
                {
                    "output_type": "stream",
                    "name": "stdout",
                    "text": "Saved 6000 features\n"
                },
                {
                    "output_type": "stream",
                    "name": "stdout",
                    "text": "Saved 6500 features\n"
                },
                {
                    "output_type": "stream",
                    "name": "stdout",
                    "text": "Saved 7000 features\n"
                },
                {
                    "output_type": "stream",
                    "name": "stdout",
                    "text": "Saved 7500 features\n"
                },
                {
                    "output_type": "stream",
                    "name": "stdout",
                    "text": "Saved 8000 features\n"
                },
                {
                    "output_type": "stream",
                    "name": "stdout",
                    "text": "Saved 8500 features\n"
                },
                {
                    "output_type": "stream",
                    "name": "stdout",
                    "text": "Saved 9000 features\n"
                },
                {
                    "output_type": "stream",
                    "name": "stdout",
                    "text": "Saved 9500 features\n"
                },
                {
                    "output_type": "stream",
                    "name": "stdout",
                    "text": "Saved 10000 features\n"
                },
                {
                    "output_type": "stream",
                    "name": "stdout",
                    "text": "Saved 10500 features\n"
                },
                {
                    "output_type": "stream",
                    "name": "stdout",
                    "text": "Saved 11000 features\n"
                },
                {
                    "output_type": "stream",
                    "name": "stdout",
                    "text": "Saved 11500 features\n"
                },
                {
                    "output_type": "stream",
                    "name": "stdout",
                    "text": "Saved 12000 features\n"
                },
                {
                    "output_type": "stream",
                    "name": "stdout",
                    "text": "Saved 12500 features\n"
                },
                {
                    "output_type": "stream",
                    "name": "stdout",
                    "text": "Saved 13000 features\n"
                },
                {
                    "output_type": "stream",
                    "name": "stdout",
                    "text": "Saved 13500 features\n"
                },
                {
                    "output_type": "stream",
                    "name": "stdout",
                    "text": "Saved 14000 features\n"
                },
                {
                    "output_type": "stream",
                    "name": "stdout",
                    "text": "Saved 14500 features\n"
                },
                {
                    "output_type": "stream",
                    "name": "stdout",
                    "text": "Saved 15000 features\n"
                },
                {
                    "output_type": "stream",
                    "name": "stdout",
                    "text": "Saved 15500 features\n"
                },
                {
                    "output_type": "stream",
                    "name": "stdout",
                    "text": "Saved 16000 features\n"
                },
                {
                    "output_type": "stream",
                    "name": "stdout",
                    "text": "Saved 16500 features\n"
                },
                {
                    "output_type": "stream",
                    "name": "stdout",
                    "text": "Saved 17000 features\n"
                },
                {
                    "output_type": "stream",
                    "name": "stdout",
                    "text": "Saved 17500 features\n"
                },
                {
                    "output_type": "stream",
                    "name": "stdout",
                    "text": "Saved 18000 features\n"
                },
                {
                    "output_type": "stream",
                    "name": "stdout",
                    "text": "Saved 18500 features\n"
                },
                {
                    "output_type": "stream",
                    "name": "stdout",
                    "text": "Saved 19000 features\n"
                },
                {
                    "output_type": "stream",
                    "name": "stdout",
                    "text": "Saved 19500 features\n"
                },
                {
                    "output_type": "stream",
                    "name": "stdout",
                    "text": "Saved 20000 features\n"
                },
                {
                    "output_type": "stream",
                    "name": "stdout",
                    "text": "Saved 20500 features\n"
                },
                {
                    "output_type": "stream",
                    "name": "stdout",
                    "text": "Saved 21000 features\n"
                },
                {
                    "output_type": "stream",
                    "name": "stdout",
                    "text": "Saved 21500 features\n"
                },
                {
                    "output_type": "stream",
                    "name": "stdout",
                    "text": "Saved 22000 features\n"
                },
                {
                    "output_type": "stream",
                    "name": "stdout",
                    "text": "Saved 22500 features\n"
                },
                {
                    "output_type": "stream",
                    "name": "stdout",
                    "text": "Saved 23000 features\n"
                },
                {
                    "output_type": "stream",
                    "name": "stdout",
                    "text": "Saved 23500 features\n"
                },
                {
                    "output_type": "stream",
                    "name": "stdout",
                    "text": "Saved 24000 features\n"
                },
                {
                    "output_type": "stream",
                    "name": "stdout",
                    "text": "Saved 24500 features\n"
                },
                {
                    "output_type": "stream",
                    "name": "stdout",
                    "text": "Saved 25000 features\n"
                },
                {
                    "output_type": "stream",
                    "name": "stdout",
                    "text": "Saved 25500 features\n"
                },
                {
                    "output_type": "stream",
                    "name": "stdout",
                    "text": "Saved 26000 features\n"
                },
                {
                    "output_type": "stream",
                    "name": "stdout",
                    "text": "Saved 26500 features\n"
                },
                {
                    "output_type": "stream",
                    "name": "stdout",
                    "text": "Saved 27000 features\n"
                },
                {
                    "output_type": "stream",
                    "name": "stdout",
                    "text": "Saved 27500 features\n"
                },
                {
                    "output_type": "stream",
                    "name": "stdout",
                    "text": "Saved 28000 features\n"
                },
                {
                    "output_type": "stream",
                    "name": "stdout",
                    "text": "Saved 28500 features\n"
                },
                {
                    "output_type": "stream",
                    "name": "stdout",
                    "text": "Saved 29000 features\n"
                },
                {
                    "output_type": "stream",
                    "name": "stdout",
                    "text": "Saved 29500 features\n"
                },
                {
                    "output_type": "stream",
                    "name": "stdout",
                    "text": "Saved 30000 features\n"
                },
                {
                    "output_type": "stream",
                    "name": "stdout",
                    "text": "Saved 30500 features\n"
                },
                {
                    "output_type": "stream",
                    "name": "stdout",
                    "text": "Saved 31000 features\n"
                },
                {
                    "output_type": "stream",
                    "name": "stdout",
                    "text": "Saved 31500 features\n"
                },
                {
                    "output_type": "stream",
                    "name": "stdout",
                    "text": "Saved 32000 features\n"
                },
                {
                    "output_type": "stream",
                    "name": "stdout",
                    "text": "Saved 32500 features\n"
                },
                {
                    "output_type": "stream",
                    "name": "stdout",
                    "text": "Saved 33000 features\n"
                },
                {
                    "output_type": "stream",
                    "name": "stdout",
                    "text": "Saved 33500 features\n"
                },
                {
                    "output_type": "stream",
                    "name": "stdout",
                    "text": "Saved 34000 features\n"
                },
                {
                    "output_type": "stream",
                    "name": "stdout",
                    "text": "Saved 34500 features\n"
                },
                {
                    "output_type": "stream",
                    "name": "stdout",
                    "text": "Saved 35000 features\n"
                },
                {
                    "output_type": "stream",
                    "name": "stdout",
                    "text": "Saved 35500 features\n"
                },
                {
                    "output_type": "stream",
                    "name": "stdout",
                    "text": "Saved 36000 features\n"
                },
                {
                    "output_type": "stream",
                    "name": "stdout",
                    "text": "Saved 36500 features\n"
                },
                {
                    "output_type": "stream",
                    "name": "stdout",
                    "text": "Saved 37000 features\n"
                },
                {
                    "output_type": "stream",
                    "name": "stdout",
                    "text": "Saved 37500 features\n"
                },
                {
                    "output_type": "stream",
                    "name": "stdout",
                    "text": "Saved 38000 features\n"
                },
                {
                    "output_type": "stream",
                    "name": "stdout",
                    "text": "Saved 38500 features\n"
                },
                {
                    "output_type": "stream",
                    "name": "stdout",
                    "text": "Saved 39000 features\n"
                },
                {
                    "output_type": "stream",
                    "name": "stdout",
                    "text": "Saved 39500 features\n"
                },
                {
                    "output_type": "stream",
                    "name": "stdout",
                    "text": "Saved 40000 features\n"
                },
                {
                    "output_type": "stream",
                    "name": "stdout",
                    "text": "Saved 40500 features\n"
                },
                {
                    "output_type": "stream",
                    "name": "stdout",
                    "text": "Saved 41000 features\n"
                },
                {
                    "output_type": "stream",
                    "name": "stdout",
                    "text": "Saved 41500 features\n"
                },
                {
                    "output_type": "stream",
                    "name": "stdout",
                    "text": "Saved 42000 features\n"
                },
                {
                    "output_type": "stream",
                    "name": "stdout",
                    "text": "Saved 42500 features\n"
                },
                {
                    "output_type": "stream",
                    "name": "stdout",
                    "text": "Saved 43000 features\n"
                },
                {
                    "output_type": "stream",
                    "name": "stdout",
                    "text": "Saved 43500 features\n"
                },
                {
                    "output_type": "stream",
                    "name": "stdout",
                    "text": "Saved 44000 features\n"
                },
                {
                    "output_type": "stream",
                    "name": "stdout",
                    "text": "Saved 44500 features\n"
                },
                {
                    "output_type": "stream",
                    "name": "stdout",
                    "text": "Saved 45000 features\n"
                },
                {
                    "output_type": "stream",
                    "name": "stdout",
                    "text": "Saved 45500 features\n"
                },
                {
                    "output_type": "stream",
                    "name": "stdout",
                    "text": "Saved 46000 features\n"
                },
                {
                    "output_type": "stream",
                    "name": "stdout",
                    "text": "Saved 46500 features\n"
                },
                {
                    "output_type": "stream",
                    "name": "stdout",
                    "text": "Length of data dict\n46743\n"
                }
            ],
            "execution_count": 13
        },
        {
            "cell_type": "code",
            "source": [
                "second_chunk_json_paths = []\r\n",
                "\r\n",
                "for year in feature_list_second_chunk:\r\n",
                "    year_folder = feature_list_folder + str(year) + \"/in_range/\"\r\n",
                "    if os.path.exists(year_folder):\r\n",
                "        second_chunk_json_paths = second_chunk_json_paths + [year_folder + e for e in os.listdir(year_folder)]\r\n",
                "        #second_chunk_json_paths.append(year_folder + os.listdir(year_folder))\r\n",
                "\r\n",
                "print(\"Number of features in this chunk:\")\r\n",
                "print(len(second_chunk_json_paths))\r\n",
                "\r\n",
                "place = CITY_LOCATIONS[\"clovis\"]\r\n",
                "my_index = 0;\r\n",
                "second_chunk_data = []\r\n",
                "for wf_feature_path in second_chunk_json_paths:\r\n",
                "    try:\r\n",
                "        if (my_index % 500) == 0:\r\n",
                "            print(f\"Saved {my_index} features\")\r\n",
                "        \r\n",
                "        f = open(wf_feature_path) \r\n",
                "        wf_feature = json.load(f)\r\n",
                "        wf_year = wf_feature['attributes']['Fire_Year']\r\n",
                "        wf_name = wf_feature['attributes']['Listed_Fire_Names'].split(',')[0]\r\n",
                "        wf_size = wf_feature['attributes']['GIS_Acres']\r\n",
                "        wf_type = wf_feature['attributes']['Assigned_Fire_Type']\r\n",
                "        ring_data = wf_feature['geometry']['rings'][0]\r\n",
                "\r\n",
                "        #\r\n",
                "        #     Compute using the shortest distance to any point on the perimeter\r\n",
                "        #\r\n",
                "        distance = shortest_distance_from_place_to_fire_perimeter(place['latlon'],ring_data)\r\n",
                "        avg_distance = average_distance_from_place_to_fire_perimeter(place['latlon'],ring_data)\r\n",
                "\r\n",
                "        wf_feature_dict  = {}\r\n",
                "        wf_feature_dict['index'] = wf_feature_path.replace(feature_list_folder + str(year) + \"/in_range/\", \"\").replace(\".json\", \"\")\r\n",
                "        wf_feature_dict['year'] = wf_year\r\n",
                "        wf_feature_dict['name'] = wf_name\r\n",
                "        wf_feature_dict['size'] = wf_size\r\n",
                "        wf_feature_dict['type'] = wf_type\r\n",
                "        wf_feature_dict['shortest_distance_dist'] = distance[0]\r\n",
                "        wf_feature_dict['shortest_distance_x'] = distance[1][0]\r\n",
                "        wf_feature_dict['shortest_distance_y'] = distance[1][1]\r\n",
                "        wf_feature_dict['average_distance'] = avg_distance\r\n",
                "\r\n",
                "\r\n",
                "\r\n",
                "        second_chunk_data.append(wf_feature_dict)\r\n",
                "\r\n",
                "        my_index = my_index + 1\r\n",
                "        #print(f\"The closest distance of fire '{wf_name}' ({wf_size:1.2f} acres) from {wf_year} was {distance[0]:1.2f} miles to {place['city']}\")\r\n",
                "        #print(f\"\\tThe cloest perimiter point lat,lon {distance[1][0]},{distance[1][1]}\")\r\n",
                "    except:\r\n",
                "        print(wf_feature_path)\r\n",
                "\r\n",
                "print(\"Length of data dict\")\r\n",
                "print(len(second_chunk_data))\r\n",
                "\r\n",
                "second_chunk_df = pd.DataFrame(second_chunk_data)\r\n",
                "second_chunk_df.to_csv(output_folder + \"second_chunk_df.csv\", index = False)"
            ],
            "metadata": {
                "azdata_cell_guid": "db73d848-3998-41f3-9134-da4d7c6ab292",
                "tags": [],
                "language": "python"
            },
            "outputs": [
                {
                    "output_type": "stream",
                    "name": "stdout",
                    "text": "Number of features in this chunk:\n36565\nSaved 0 features\n"
                },
                {
                    "output_type": "stream",
                    "name": "stdout",
                    "text": "Saved 500 features\n"
                },
                {
                    "output_type": "stream",
                    "name": "stdout",
                    "text": "Saved 1000 features\n"
                },
                {
                    "output_type": "stream",
                    "name": "stdout",
                    "text": "Saved 1500 features\n"
                },
                {
                    "output_type": "stream",
                    "name": "stdout",
                    "text": "Saved 2000 features\n"
                },
                {
                    "output_type": "stream",
                    "name": "stdout",
                    "text": "Saved 2500 features\n"
                },
                {
                    "output_type": "stream",
                    "name": "stdout",
                    "text": "Saved 3000 features\n"
                },
                {
                    "output_type": "stream",
                    "name": "stdout",
                    "text": "Saved 3500 features\n"
                },
                {
                    "output_type": "stream",
                    "name": "stdout",
                    "text": "Saved 4000 features\n"
                },
                {
                    "output_type": "stream",
                    "name": "stdout",
                    "text": "Saved 4500 features\n"
                },
                {
                    "output_type": "stream",
                    "name": "stdout",
                    "text": "Saved 5000 features\n"
                },
                {
                    "output_type": "stream",
                    "name": "stdout",
                    "text": "Saved 5500 features\n"
                },
                {
                    "output_type": "stream",
                    "name": "stdout",
                    "text": "Saved 6000 features\n"
                },
                {
                    "output_type": "stream",
                    "name": "stdout",
                    "text": "Saved 6500 features\n"
                },
                {
                    "output_type": "stream",
                    "name": "stdout",
                    "text": "Saved 7000 features\n"
                },
                {
                    "output_type": "stream",
                    "name": "stdout",
                    "text": "Saved 7500 features\n"
                },
                {
                    "output_type": "stream",
                    "name": "stdout",
                    "text": "Saved 8000 features\n"
                },
                {
                    "output_type": "stream",
                    "name": "stdout",
                    "text": "Saved 8500 features\n"
                },
                {
                    "output_type": "stream",
                    "name": "stdout",
                    "text": "Saved 9000 features\n"
                },
                {
                    "output_type": "stream",
                    "name": "stdout",
                    "text": "Saved 9500 features\n"
                },
                {
                    "output_type": "stream",
                    "name": "stdout",
                    "text": "Saved 10000 features\n"
                },
                {
                    "output_type": "stream",
                    "name": "stdout",
                    "text": "Saved 10500 features\n"
                },
                {
                    "output_type": "stream",
                    "name": "stdout",
                    "text": "Saved 11000 features\n"
                },
                {
                    "output_type": "stream",
                    "name": "stdout",
                    "text": "Saved 11500 features\n"
                },
                {
                    "output_type": "stream",
                    "name": "stdout",
                    "text": "Saved 12000 features\n"
                },
                {
                    "output_type": "stream",
                    "name": "stdout",
                    "text": "feature_list/2007/in_range/109604.json\n"
                },
                {
                    "output_type": "stream",
                    "name": "stdout",
                    "text": "Saved 12500 features\n"
                },
                {
                    "output_type": "stream",
                    "name": "stdout",
                    "text": "feature_list/2007/in_range/110223.json\n"
                },
                {
                    "output_type": "stream",
                    "name": "stdout",
                    "text": "Saved 13000 features\n"
                },
                {
                    "output_type": "stream",
                    "name": "stdout",
                    "text": "Saved 13500 features\n"
                },
                {
                    "output_type": "stream",
                    "name": "stdout",
                    "text": "Saved 14000 features\n"
                },
                {
                    "output_type": "stream",
                    "name": "stdout",
                    "text": "Saved 14500 features\n"
                },
                {
                    "output_type": "stream",
                    "name": "stdout",
                    "text": "Saved 15000 features\n"
                },
                {
                    "output_type": "stream",
                    "name": "stdout",
                    "text": "Saved 15500 features\n"
                },
                {
                    "output_type": "stream",
                    "name": "stdout",
                    "text": "Saved 16000 features\n"
                },
                {
                    "output_type": "stream",
                    "name": "stdout",
                    "text": "feature_list/2008/in_range/110638.json\n"
                },
                {
                    "output_type": "stream",
                    "name": "stdout",
                    "text": "Saved 16500 features\n"
                },
                {
                    "output_type": "stream",
                    "name": "stdout",
                    "text": "Saved 17000 features\n"
                },
                {
                    "output_type": "stream",
                    "name": "stdout",
                    "text": "feature_list/2008/in_range/111430.json\n"
                },
                {
                    "output_type": "stream",
                    "name": "stdout",
                    "text": "Saved 17500 features\n"
                },
                {
                    "output_type": "stream",
                    "name": "stdout",
                    "text": "Saved 18000 features\n"
                },
                {
                    "output_type": "stream",
                    "name": "stdout",
                    "text": "Saved 18500 features\n"
                },
                {
                    "output_type": "stream",
                    "name": "stdout",
                    "text": "Saved 19000 features\n"
                },
                {
                    "output_type": "stream",
                    "name": "stdout",
                    "text": "Saved 19500 features\n"
                },
                {
                    "output_type": "stream",
                    "name": "stdout",
                    "text": "feature_list/2009/in_range/111775.json\n"
                },
                {
                    "output_type": "stream",
                    "name": "stdout",
                    "text": "feature_list/2009/in_range/111896.json\n"
                },
                {
                    "output_type": "stream",
                    "name": "stdout",
                    "text": "Saved 20000 features\n"
                },
                {
                    "output_type": "stream",
                    "name": "stdout",
                    "text": "feature_list/2009/in_range/112409.json\n"
                },
                {
                    "output_type": "stream",
                    "name": "stdout",
                    "text": "feature_list/2009/in_range/112414.json\n"
                },
                {
                    "output_type": "stream",
                    "name": "stdout",
                    "text": "Saved 20500 features\n"
                },
                {
                    "output_type": "stream",
                    "name": "stdout",
                    "text": "Saved 21000 features\n"
                },
                {
                    "output_type": "stream",
                    "name": "stdout",
                    "text": "Saved 21500 features\n"
                },
                {
                    "output_type": "stream",
                    "name": "stdout",
                    "text": "Saved 22000 features\n"
                },
                {
                    "output_type": "stream",
                    "name": "stdout",
                    "text": "Saved 22500 features\n"
                },
                {
                    "output_type": "stream",
                    "name": "stdout",
                    "text": "Saved 23000 features\n"
                },
                {
                    "output_type": "stream",
                    "name": "stdout",
                    "text": "Saved 23500 features\n"
                },
                {
                    "output_type": "stream",
                    "name": "stdout",
                    "text": "feature_list/2010/in_range/113410.json\n"
                },
                {
                    "output_type": "stream",
                    "name": "stdout",
                    "text": "Saved 24000 features\n"
                },
                {
                    "output_type": "stream",
                    "name": "stdout",
                    "text": "feature_list/2010/in_range/113664.json\n"
                },
                {
                    "output_type": "stream",
                    "name": "stdout",
                    "text": "feature_list/2010/in_range/113737.json\n"
                },
                {
                    "output_type": "stream",
                    "name": "stdout",
                    "text": "feature_list/2010/in_range/113765.json\n"
                },
                {
                    "output_type": "stream",
                    "name": "stdout",
                    "text": "feature_list/2010/in_range/113804.json\n"
                },
                {
                    "output_type": "stream",
                    "name": "stdout",
                    "text": "Saved 24500 features\n"
                },
                {
                    "output_type": "stream",
                    "name": "stdout",
                    "text": "feature_list/2010/in_range/114308.json\n"
                },
                {
                    "output_type": "stream",
                    "name": "stdout",
                    "text": "feature_list/2010/in_range/114321.json\n"
                },
                {
                    "output_type": "stream",
                    "name": "stdout",
                    "text": "Saved 25000 features\n"
                },
                {
                    "output_type": "stream",
                    "name": "stdout",
                    "text": "Saved 25500 features\n"
                },
                {
                    "output_type": "stream",
                    "name": "stdout",
                    "text": "Saved 26000 features\n"
                },
                {
                    "output_type": "stream",
                    "name": "stdout",
                    "text": "Saved 26500 features\n"
                },
                {
                    "output_type": "stream",
                    "name": "stdout",
                    "text": "Saved 27000 features\n"
                },
                {
                    "output_type": "stream",
                    "name": "stdout",
                    "text": "Saved 27500 features\n"
                },
                {
                    "output_type": "stream",
                    "name": "stdout",
                    "text": "Saved 28000 features\n"
                },
                {
                    "output_type": "stream",
                    "name": "stdout",
                    "text": "Saved 28500 features\n"
                },
                {
                    "output_type": "stream",
                    "name": "stdout",
                    "text": "Saved 29000 features\n"
                },
                {
                    "output_type": "stream",
                    "name": "stdout",
                    "text": "Saved 29500 features\n"
                },
                {
                    "output_type": "stream",
                    "name": "stdout",
                    "text": "Saved 30000 features\n"
                },
                {
                    "output_type": "stream",
                    "name": "stdout",
                    "text": "Saved 30500 features\n"
                },
                {
                    "output_type": "stream",
                    "name": "stdout",
                    "text": "Saved 31000 features\n"
                },
                {
                    "output_type": "stream",
                    "name": "stdout",
                    "text": "Saved 31500 features\n"
                },
                {
                    "output_type": "stream",
                    "name": "stdout",
                    "text": "Saved 32000 features\n"
                },
                {
                    "output_type": "stream",
                    "name": "stdout",
                    "text": "Saved 32500 features\n"
                },
                {
                    "output_type": "stream",
                    "name": "stdout",
                    "text": "feature_list/2012/in_range/115628.json\n"
                },
                {
                    "output_type": "stream",
                    "name": "stdout",
                    "text": "Saved 33000 features\n"
                },
                {
                    "output_type": "stream",
                    "name": "stdout",
                    "text": "feature_list/2012/in_range/115973.json\n"
                },
                {
                    "output_type": "stream",
                    "name": "stdout",
                    "text": "feature_list/2012/in_range/116234.json\n"
                },
                {
                    "output_type": "stream",
                    "name": "stdout",
                    "text": "Saved 33500 features\n"
                },
                {
                    "output_type": "stream",
                    "name": "stdout",
                    "text": "Saved 34000 features\n"
                },
                {
                    "output_type": "stream",
                    "name": "stdout",
                    "text": "Saved 34500 features\n"
                },
                {
                    "output_type": "stream",
                    "name": "stdout",
                    "text": "Saved 35000 features\n"
                },
                {
                    "output_type": "stream",
                    "name": "stdout",
                    "text": "Saved 35500 features\n"
                },
                {
                    "output_type": "stream",
                    "name": "stdout",
                    "text": "Saved 36000 features\n"
                },
                {
                    "output_type": "stream",
                    "name": "stdout",
                    "text": "Saved 36500 features\n"
                },
                {
                    "output_type": "stream",
                    "name": "stdout",
                    "text": "Length of data dict\n36547\n"
                }
            ],
            "execution_count": 14
        },
        {
            "cell_type": "code",
            "source": [
                "third_chunk_json_paths = []\r\n",
                "\r\n",
                "for year in feature_list_third_chunk:\r\n",
                "    year_folder = feature_list_folder + str(year) + \"/in_range/\"\r\n",
                "    if os.path.exists(year_folder):\r\n",
                "        third_chunk_json_paths = third_chunk_json_paths + [year_folder + e for e in os.listdir(year_folder)]\r\n",
                "        #third_chunk_json_paths.append(year_folder + os.listdir(year_folder))\r\n",
                "\r\n",
                "print(\"Number of features in this chunk:\")\r\n",
                "print(len(third_chunk_json_paths))\r\n",
                "\r\n",
                "place = CITY_LOCATIONS[\"clovis\"]\r\n",
                "my_index = 0;\r\n",
                "third_chunk_data = []\r\n",
                "for wf_feature_path in third_chunk_json_paths:\r\n",
                "    try:\r\n",
                "        if (my_index % 500) == 0:\r\n",
                "            print(f\"Saved {my_index} features\")\r\n",
                "        \r\n",
                "        f = open(wf_feature_path) \r\n",
                "        wf_feature = json.load(f)\r\n",
                "        wf_year = wf_feature['attributes']['Fire_Year']\r\n",
                "        wf_name = wf_feature['attributes']['Listed_Fire_Names'].split(',')[0]\r\n",
                "        wf_size = wf_feature['attributes']['GIS_Acres']\r\n",
                "        wf_type = wf_feature['attributes']['Assigned_Fire_Type']\r\n",
                "        ring_data = wf_feature['geometry']['rings'][0]\r\n",
                "\r\n",
                "        #\r\n",
                "        #     Compute using the shortest distance to any point on the perimeter\r\n",
                "        #\r\n",
                "        distance = shortest_distance_from_place_to_fire_perimeter(place['latlon'],ring_data)\r\n",
                "        avg_distance = average_distance_from_place_to_fire_perimeter(place['latlon'],ring_data)\r\n",
                "\r\n",
                "        wf_feature_dict  = {}\r\n",
                "        wf_feature_dict['index'] = wf_feature_path.replace(feature_list_folder + str(year) + \"/in_range/\", \"\").replace(\".json\", \"\")\r\n",
                "        wf_feature_dict['year'] = wf_year\r\n",
                "        wf_feature_dict['name'] = wf_name\r\n",
                "        wf_feature_dict['size'] = wf_size\r\n",
                "        wf_feature_dict['type'] = wf_type\r\n",
                "        wf_feature_dict['shortest_distance_dist'] = distance[0]\r\n",
                "        wf_feature_dict['shortest_distance_x'] = distance[1][0]\r\n",
                "        wf_feature_dict['shortest_distance_y'] = distance[1][1]\r\n",
                "        wf_feature_dict['average_distance'] = avg_distance\r\n",
                "\r\n",
                "\r\n",
                "\r\n",
                "        third_chunk_data.append(wf_feature_dict)\r\n",
                "\r\n",
                "        my_index = my_index + 1\r\n",
                "        #print(f\"The closest distance of fire '{wf_name}' ({wf_size:1.2f} acres) from {wf_year} was {distance[0]:1.2f} miles to {place['city']}\")\r\n",
                "        #print(f\"\\tThe cloest perimiter point lat,lon {distance[1][0]},{distance[1][1]}\")\r\n",
                "    except:\r\n",
                "        print(wf_feature_path)\r\n",
                "\r\n",
                "print(\"Length of data dict\")\r\n",
                "print(len(third_chunk_data))\r\n",
                "\r\n",
                "third_chunk_df = pd.DataFrame(third_chunk_data)\r\n",
                "third_chunk_df.to_csv(output_folder + \"third_chunk_df.csv\", index = False)"
            ],
            "metadata": {
                "azdata_cell_guid": "331b3c93-9d6b-492f-9814-21c107ee2e42",
                "tags": [],
                "language": "python"
            },
            "outputs": [
                {
                    "output_type": "stream",
                    "name": "stdout",
                    "text": "Number of features in this chunk:\n34270\nSaved 0 features\n"
                },
                {
                    "output_type": "stream",
                    "name": "stdout",
                    "text": "Saved 500 features\n"
                },
                {
                    "output_type": "stream",
                    "name": "stdout",
                    "text": "feature_list/2013/in_range/117085.json\n"
                },
                {
                    "output_type": "stream",
                    "name": "stdout",
                    "text": "Saved 1000 features\n"
                },
                {
                    "output_type": "stream",
                    "name": "stdout",
                    "text": "Saved 1500 features\n"
                },
                {
                    "output_type": "stream",
                    "name": "stdout",
                    "text": "Saved 2000 features\n"
                },
                {
                    "output_type": "stream",
                    "name": "stdout",
                    "text": "Saved 2500 features\n"
                },
                {
                    "output_type": "stream",
                    "name": "stdout",
                    "text": "Saved 3000 features\n"
                },
                {
                    "output_type": "stream",
                    "name": "stdout",
                    "text": "Saved 3500 features\n"
                },
                {
                    "output_type": "stream",
                    "name": "stdout",
                    "text": "Saved 4000 features\n"
                },
                {
                    "output_type": "stream",
                    "name": "stdout",
                    "text": "Saved 4500 features\n"
                },
                {
                    "output_type": "stream",
                    "name": "stdout",
                    "text": "Saved 5000 features\n"
                },
                {
                    "output_type": "stream",
                    "name": "stdout",
                    "text": "Saved 5500 features\n"
                },
                {
                    "output_type": "stream",
                    "name": "stdout",
                    "text": "Saved 6000 features\n"
                },
                {
                    "output_type": "stream",
                    "name": "stdout",
                    "text": "Saved 6500 features\n"
                },
                {
                    "output_type": "stream",
                    "name": "stdout",
                    "text": "Saved 7000 features\n"
                },
                {
                    "output_type": "stream",
                    "name": "stdout",
                    "text": "Saved 7500 features\n"
                },
                {
                    "output_type": "stream",
                    "name": "stdout",
                    "text": "feature_list/2015/in_range/119581.json\n"
                },
                {
                    "output_type": "stream",
                    "name": "stdout",
                    "text": "feature_list/2015/in_range/119616.json\n"
                },
                {
                    "output_type": "stream",
                    "name": "stdout",
                    "text": "feature_list/2015/in_range/119750.json\n"
                },
                {
                    "output_type": "stream",
                    "name": "stdout",
                    "text": "feature_list/2015/in_range/119981.json\n"
                },
                {
                    "output_type": "stream",
                    "name": "stdout",
                    "text": "Saved 8000 features\n"
                },
                {
                    "output_type": "stream",
                    "name": "stdout",
                    "text": "feature_list/2015/in_range/120211.json\n"
                },
                {
                    "output_type": "stream",
                    "name": "stdout",
                    "text": "feature_list/2015/in_range/120430.json\n"
                },
                {
                    "output_type": "stream",
                    "name": "stdout",
                    "text": "Saved 8500 features\n"
                },
                {
                    "output_type": "stream",
                    "name": "stdout",
                    "text": "Saved 9000 features\n"
                },
                {
                    "output_type": "stream",
                    "name": "stdout",
                    "text": "Saved 9500 features\n"
                },
                {
                    "output_type": "stream",
                    "name": "stdout",
                    "text": "Saved 10000 features\n"
                },
                {
                    "output_type": "stream",
                    "name": "stdout",
                    "text": "Saved 10500 features\n"
                },
                {
                    "output_type": "stream",
                    "name": "stdout",
                    "text": "Saved 11000 features\n"
                },
                {
                    "output_type": "stream",
                    "name": "stdout",
                    "text": "feature_list/2016/in_range/120677.json\n"
                },
                {
                    "output_type": "stream",
                    "name": "stdout",
                    "text": "Saved 11500 features\n"
                },
                {
                    "output_type": "stream",
                    "name": "stdout",
                    "text": "feature_list/2016/in_range/120742.json\n"
                },
                {
                    "output_type": "stream",
                    "name": "stdout",
                    "text": "feature_list/2016/in_range/121009.json\n"
                },
                {
                    "output_type": "stream",
                    "name": "stdout",
                    "text": "Saved 12000 features\n"
                },
                {
                    "output_type": "stream",
                    "name": "stdout",
                    "text": "Saved 12500 features\n"
                },
                {
                    "output_type": "stream",
                    "name": "stdout",
                    "text": "Saved 13000 features\n"
                },
                {
                    "output_type": "stream",
                    "name": "stdout",
                    "text": "Saved 13500 features\n"
                },
                {
                    "output_type": "stream",
                    "name": "stdout",
                    "text": "Saved 14000 features\n"
                },
                {
                    "output_type": "stream",
                    "name": "stdout",
                    "text": "Saved 14500 features\n"
                },
                {
                    "output_type": "stream",
                    "name": "stdout",
                    "text": "Saved 15000 features\n"
                },
                {
                    "output_type": "stream",
                    "name": "stdout",
                    "text": "Saved 15500 features\n"
                },
                {
                    "output_type": "stream",
                    "name": "stdout",
                    "text": "Saved 16000 features\n"
                },
                {
                    "output_type": "stream",
                    "name": "stdout",
                    "text": "feature_list/2017/in_range/122263.json\n"
                },
                {
                    "output_type": "stream",
                    "name": "stdout",
                    "text": "feature_list/2017/in_range/122530.json\n"
                },
                {
                    "output_type": "stream",
                    "name": "stdout",
                    "text": "Saved 16500 features\n"
                },
                {
                    "output_type": "stream",
                    "name": "stdout",
                    "text": "Saved 17000 features\n"
                },
                {
                    "output_type": "stream",
                    "name": "stdout",
                    "text": "Saved 17500 features\n"
                },
                {
                    "output_type": "stream",
                    "name": "stdout",
                    "text": "Saved 18000 features\n"
                },
                {
                    "output_type": "stream",
                    "name": "stdout",
                    "text": "Saved 18500 features\n"
                },
                {
                    "output_type": "stream",
                    "name": "stdout",
                    "text": "Saved 19000 features\n"
                },
                {
                    "output_type": "stream",
                    "name": "stdout",
                    "text": "Saved 19500 features\n"
                },
                {
                    "output_type": "stream",
                    "name": "stdout",
                    "text": "Saved 20000 features\n"
                },
                {
                    "output_type": "stream",
                    "name": "stdout",
                    "text": "Saved 20500 features\n"
                },
                {
                    "output_type": "stream",
                    "name": "stdout",
                    "text": "Saved 21000 features\n"
                },
                {
                    "output_type": "stream",
                    "name": "stdout",
                    "text": "feature_list/2018/in_range/123760.json\n"
                },
                {
                    "output_type": "stream",
                    "name": "stdout",
                    "text": "Saved 21500 features\n"
                },
                {
                    "output_type": "stream",
                    "name": "stdout",
                    "text": "feature_list/2018/in_range/124534.json\n"
                },
                {
                    "output_type": "stream",
                    "name": "stdout",
                    "text": "Saved 22000 features\n"
                },
                {
                    "output_type": "stream",
                    "name": "stdout",
                    "text": "feature_list/2018/in_range/125045.json\n"
                },
                {
                    "output_type": "stream",
                    "name": "stdout",
                    "text": "Saved 22500 features\n"
                },
                {
                    "output_type": "stream",
                    "name": "stdout",
                    "text": "Saved 23000 features\n"
                },
                {
                    "output_type": "stream",
                    "name": "stdout",
                    "text": "Saved 23500 features\n"
                },
                {
                    "output_type": "stream",
                    "name": "stdout",
                    "text": "Saved 24000 features\n"
                },
                {
                    "output_type": "stream",
                    "name": "stdout",
                    "text": "Saved 24500 features\n"
                },
                {
                    "output_type": "stream",
                    "name": "stdout",
                    "text": "Saved 25000 features\n"
                },
                {
                    "output_type": "stream",
                    "name": "stdout",
                    "text": "Saved 25500 features\n"
                },
                {
                    "output_type": "stream",
                    "name": "stdout",
                    "text": "feature_list/2019/in_range/125744.json\n"
                },
                {
                    "output_type": "stream",
                    "name": "stdout",
                    "text": "Saved 26000 features\n"
                },
                {
                    "output_type": "stream",
                    "name": "stdout",
                    "text": "Saved 26500 features\n"
                },
                {
                    "output_type": "stream",
                    "name": "stdout",
                    "text": "Saved 27000 features\n"
                },
                {
                    "output_type": "stream",
                    "name": "stdout",
                    "text": "Saved 27500 features\n"
                },
                {
                    "output_type": "stream",
                    "name": "stdout",
                    "text": "Saved 28000 features\n"
                },
                {
                    "output_type": "stream",
                    "name": "stdout",
                    "text": "Saved 28500 features\n"
                },
                {
                    "output_type": "stream",
                    "name": "stdout",
                    "text": "Saved 29000 features\n"
                },
                {
                    "output_type": "stream",
                    "name": "stdout",
                    "text": "Saved 29500 features\n"
                },
                {
                    "output_type": "stream",
                    "name": "stdout",
                    "text": "feature_list/2020/in_range/127491.json\n"
                },
                {
                    "output_type": "stream",
                    "name": "stdout",
                    "text": "Saved 30000 features\n"
                },
                {
                    "output_type": "stream",
                    "name": "stdout",
                    "text": "Saved 30500 features\n"
                },
                {
                    "output_type": "stream",
                    "name": "stdout",
                    "text": "Saved 31000 features\n"
                },
                {
                    "output_type": "stream",
                    "name": "stdout",
                    "text": "Saved 31500 features\n"
                },
                {
                    "output_type": "stream",
                    "name": "stdout",
                    "text": "Saved 32000 features\n"
                },
                {
                    "output_type": "stream",
                    "name": "stdout",
                    "text": "Saved 32500 features\n"
                },
                {
                    "output_type": "stream",
                    "name": "stdout",
                    "text": "Saved 33000 features\n"
                },
                {
                    "output_type": "stream",
                    "name": "stdout",
                    "text": "Saved 33500 features\n"
                },
                {
                    "output_type": "stream",
                    "name": "stdout",
                    "text": "Saved 34000 features\n"
                },
                {
                    "output_type": "stream",
                    "name": "stdout",
                    "text": "Length of data dict\n34253\n"
                }
            ],
            "execution_count": 15
        },
        {
            "cell_type": "code",
            "source": [
                "list_of_failed_files = [\"feature_list/2007/in_range/109604.json\",\r\n",
                "\"feature_list/2007/in_range/110223.json\",\r\n",
                "\"feature_list/2008/in_range/110638.json\",\r\n",
                "\"feature_list/2008/in_range/111430.json\",\r\n",
                "\"feature_list/2009/in_range/111775.json\",\r\n",
                "\"feature_list/2009/in_range/111896.json\",\r\n",
                "\"feature_list/2009/in_range/112409.json\",\r\n",
                "\"feature_list/2009/in_range/112414.json\",\r\n",
                "\"feature_list/2010/in_range/113410.json\",\r\n",
                "\"feature_list/2010/in_range/113664.json\",\r\n",
                "\"feature_list/2010/in_range/113737.json\",\r\n",
                "\"feature_list/2010/in_range/113765.json\",\r\n",
                "\"feature_list/2010/in_range/113804.json\",\r\n",
                "\"feature_list/2010/in_range/114308.json\",\r\n",
                "\"feature_list/2010/in_range/114321.json\",\r\n",
                "\"feature_list/2012/in_range/115628.json\",\r\n",
                "\"feature_list/2012/in_range/115973.json\",\r\n",
                "\"feature_list/2012/in_range/116234.json\",\r\n",
                "\"feature_list/2013/in_range/117085.json\",\r\n",
                "\"feature_list/2015/in_range/119581.json\",\r\n",
                "\"feature_list/2015/in_range/119616.json\",\r\n",
                "\"feature_list/2015/in_range/119750.json\",\r\n",
                "\"feature_list/2015/in_range/119981.json\",\r\n",
                "\"feature_list/2015/in_range/120211.json\",\r\n",
                "\"feature_list/2015/in_range/120430.json\",\r\n",
                "\"feature_list/2016/in_range/120677.json\",\r\n",
                "\"feature_list/2016/in_range/120742.json\",\r\n",
                "\"feature_list/2016/in_range/121009.json\",\r\n",
                "\"feature_list/2017/in_range/122263.json\",\r\n",
                "\"feature_list/2017/in_range/122530.json\",\r\n",
                "\"feature_list/2018/in_range/123760.json\",\r\n",
                "\"feature_list/2018/in_range/124534.json\",\r\n",
                "\"feature_list/2018/in_range/125045.json\",\r\n",
                "\"feature_list/2019/in_range/125744.json\",\r\n",
                "\"feature_list/2020/in_range/127491.json\"]"
            ],
            "metadata": {
                "azdata_cell_guid": "3f54c664-ce4f-433e-a1b1-cc4b7ab0bf09",
                "language": "python"
            },
            "outputs": [],
            "execution_count": null
        },
        {
            "cell_type": "code",
            "source": [
                "#This cell is my failed attempt at creating a fourth processed CSV with the information from\r\n",
                "#the data files that caused errors in the first run. At first, this seemed like a straightforward task,\r\n",
                "#because all of those files simply had their ring data in a an object caled \"curvedRings\" than \"rings\"\r\n",
                "#like in the other files, but I later found that their ring data doesn't consist just of coordinate pairs\r\n",
                "#like the other files; it consists of coordinate pairs (two number arrays) paired with objects that commonly\r\n",
                "#have a single key, b, and a list of 3 coordinate pairs assigned to that key. I'm not sure how to process those\r\n",
                "#data points, and pending further exploration it seems better to leave out individual wildfires than put them in\r\n",
                "#only partially processed.\r\n",
                "\r\n",
                "place = CITY_LOCATIONS[\"clovis\"]\r\n",
                "my_index = 0;\r\n",
                "missing_chunk_data = []\r\n",
                "for wf_feature_path in list_of_failed_files:\r\n",
                "    #try:\r\n",
                "        print(\"\")\r\n",
                "        print(\"---------------------------------------------------------------------------------------------\")\r\n",
                "        if (my_index % 500) == 0:\r\n",
                "            print(f\"Saved {my_index} features\")\r\n",
                "        \r\n",
                "        f = open(wf_feature_path) \r\n",
                "        wf_feature = json.load(f)\r\n",
                "        print(\"oepened file\")\r\n",
                "        wf_year = wf_feature['attributes']['Fire_Year']\r\n",
                "        print(wf_year)\r\n",
                "        wf_name = wf_feature['attributes']['Listed_Fire_Names'].split(',')[0]\r\n",
                "        print(wf_feature_path)\r\n",
                "        wf_size = wf_feature['attributes']['GIS_Acres']\r\n",
                "        print(wf_size)\r\n",
                "        wf_type = wf_feature['attributes']['Assigned_Fire_Type']\r\n",
                "        print(wf_type)\r\n",
                "        ring_data = wf_feature['geometry']['curveRings'][0]\r\n",
                "        #print((ring_data))\r\n",
                "\r\n",
                "        #\r\n",
                "        #     Compute using the shortest distance to any point on the perimeter\r\n",
                "        #\r\n",
                "        print(place)\r\n",
                "        distance = shortest_distance_from_place_to_fire_perimeter(place['latlon'],ring_data)\r\n",
                "        avg_distance = average_distance_from_place_to_fire_perimeter(place['latlon'],ring_data)\r\n",
                "\r\n",
                "        wf_feature_dict  = {}\r\n",
                "        wf_feature_dict['index'] = wf_feature_path.replace(feature_list_folder + str(year) + \"/in_range/\", \"\").replace(\".json\", \"\")\r\n",
                "        wf_feature_dict['year'] = wf_year\r\n",
                "        wf_feature_dict['name'] = wf_name\r\n",
                "        wf_feature_dict['size'] = wf_size\r\n",
                "        wf_feature_dict['type'] = wf_type\r\n",
                "        wf_feature_dict['shortest_distance_dist'] = distance[0]\r\n",
                "        wf_feature_dict['shortest_distance_x'] = distance[1][0]\r\n",
                "        wf_feature_dict['shortest_distance_y'] = distance[1][1]\r\n",
                "        wf_feature_dict['average_distance'] = avg_distance\r\n",
                "\r\n",
                "        print(wf_feature_dict)\r\n",
                "\r\n",
                "        print(\"goodbye\")\r\n",
                "        missing_chunk_data.append(wf_feature_dict)\r\n",
                "\r\n",
                "        my_index = my_index + 1\r\n",
                "        #print(f\"The closest distance of fire '{wf_name}' ({wf_size:1.2f} acres) from {wf_year} was {distance[0]:1.2f} miles to {place['city']}\")\r\n",
                "        #print(f\"\\tThe cloest perimiter point lat,lon {distance[1][0]},{distance[1][1]}\")\r\n",
                "    #except Exception as e:\r\n",
                "    #    print(e)\r\n",
                "\r\n",
                "print(\"Length of data dict\")\r\n",
                "print(len(missing_chunk_data))\r\n",
                "\r\n",
                "missing_chunk_df = pd.DataFrame(missing_chunk_data)\r\n",
                "missing_chunk_df.to_csv(output_folder + \"missing_chunk_df.csv\", index = False)\r\n",
                ""
            ],
            "metadata": {
                "azdata_cell_guid": "963414f4-ed03-42ce-a1c5-f17350a79a96",
                "tags": [],
                "language": "python"
            },
            "outputs": [],
            "execution_count": null
        }
    ]
}