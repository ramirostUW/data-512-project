{
    "metadata": {
        "kernelspec": {
            "name": "python3",
            "display_name": "Python 3",
            "language": "python"
        },
        "language_info": {
            "name": "python",
            "version": "3.11.1",
            "mimetype": "text/x-python",
            "codemirror_mode": {
                "name": "ipython",
                "version": 3
            },
            "pygments_lexer": "ipython3",
            "nbconvert_exporter": "python",
            "file_extension": ".py"
        }
    },
    "nbformat_minor": 2,
    "nbformat": 4,
    "cells": [
        {
            "cell_type": "markdown",
            "source": [
                "# EPA Air Quality System Sensors for Clovis, New Mexico\n",
                "\n",
                "This notebook queries the EPA's Air Quality System (AQS) API for its closest sensors to Clovis, New Mexico that can detect pollution from wildfire smoke. It's included to show why it is difficult to obtain meaningful insights from this dataset on the effects of wildfires on Clovis.\n",
                "\n",
                "It is an abbreviated version of the notebook I wrote during the Common Analysis phase of the project, which also grabbed data from the sensors that were identified as being the closest to Clovis.\n",
                "\n",
                "## License and changes\n",
                "\n",
                "Virtually all of the code in this notebook was developed by Dr. David W. McDonald for use in DATA 512, a course in the UW MS Data Science degree program. This code is provided under the [Creative Commons](https:\\creativecommons.org\\) [CC-BY license](https:\\creativecommons.org\\licenses\\by\\4.0\\). Revision 1.1 - September 5, 2023\n",
                "\n",
                "Small variable edits were made to grab data using the geographical coordinates for Clovis."
            ],
            "metadata": {
                "tags": [],
                "azdata_cell_guid": "612a87ac-6d8e-4bc2-83ae-f2dc87b5f190"
            },
            "attachments": {}
        },
        {
            "cell_type": "markdown",
            "source": [
                "The following two cells import the packages that will be used in this notebook, and then define the constants that will be used to ping the AQS API."
            ],
            "metadata": {
                "language": "python",
                "azdata_cell_guid": "3b88d443-800a-40f0-b66e-5ac6939bd3c6"
            },
            "attachments": {}
        },
        {
            "cell_type": "code",
            "source": [
                "# \n",
                "#    These are standard python modules\n",
                "#\n",
                "#import json, time, urllib.parse\n",
                "import json, time\n",
                "#\n",
                "#    The 'requests' module is a distribution module for making web requests.\n",
                "#\n",
                "import requests"
            ],
            "metadata": {
                "tags": [],
                "azdata_cell_guid": "9fd3376a-2a75-41b7-844b-9a363b4d8757",
                "language": "python"
            },
            "outputs": [],
            "execution_count": 1
        },
        {
            "cell_type": "code",
            "source": [
                "#########\n",
                "#\n",
                "#    CONSTANTS\n",
                "#\n",
                "\n",
                "#\n",
                "#    This is the root of all AQS API URLs\n",
                "#\n",
                "API_REQUEST_URL = 'https://aqs.epa.gov/data/api'\n",
                "\n",
                "#\n",
                "#    These are 'actions' we can ask the API to take or requests that we can make of the API\n",
                "#\n",
                "#    Sign-up request - generally only performed once - unless you lose your key\n",
                "API_ACTION_SIGNUP = '/signup?email={email}'\n",
                "#\n",
                "#    List actions provide information on API parameter values that are required by some other actions/requests\n",
                "API_ACTION_LIST_CLASSES = '/list/classes?email={email}&key={key}'\n",
                "API_ACTION_LIST_PARAMS = '/list/parametersByClass?email={email}&key={key}&pc={pclass}'\n",
                "API_ACTION_LIST_SITES = '/list/sitesByCounty?email={email}&key={key}&state={state}&county={county}'\n",
                "#\n",
                "#    Monitor actions are requests for monitoring stations that meet specific criteria\n",
                "API_ACTION_MONITORS_COUNTY = '/monitors/byCounty?email={email}&key={key}&param={param}&bdate={begin_date}&edate={end_date}&state={state}&county={county}'\n",
                "API_ACTION_MONITORS_BOX = '/monitors/byBox?email={email}&key={key}&param={param}&bdate={begin_date}&edate={end_date}&minlat={minlat}&maxlat={maxlat}&minlon={minlon}&maxlon={maxlon}'\n",
                "#\n",
                "#    Summary actions are requests for summary data. These are for daily summaries\n",
                "API_ACTION_DAILY_SUMMARY_COUNTY = '/dailyData/byCounty?email={email}&key={key}&param={param}&bdate={begin_date}&edate={end_date}&state={state}&county={county}'\n",
                "API_ACTION_DAILY_SUMMARY_BOX = '/dailyData/byBox?email={email}&key={key}&param={param}&bdate={begin_date}&edate={end_date}&minlat={minlat}&maxlat={maxlat}&minlon={minlon}&maxlon={maxlon}'\n",
                "#\n",
                "#    It is always nice to be respectful of a free data resource.\n",
                "#    We're going to observe a 100 requests per minute limit - which is fairly nice\n",
                "API_LATENCY_ASSUMED = 0.002       # Assuming roughly 2ms latency on the API and network\n",
                "API_THROTTLE_WAIT = (1.0/100.0)-API_LATENCY_ASSUMED\n",
                "#\n",
                "#\n",
                "#    This is a template that covers most of the parameters for the actions we might take, from the set of actions\n",
                "#    above. In the examples below, most of the time parameters can either be supplied as individual values to a\n",
                "#    function - or they can be set in a copy of the template and passed in with the template.\n",
                "# \n",
                "AQS_REQUEST_TEMPLATE = {\n",
                "    \"email\":      \"\",     \n",
                "    \"key\":        \"\",      \n",
                "    \"state\":      \"\",     # the two digit state FIPS # as a string\n",
                "    \"county\":     \"\",     # the three digit county FIPS # as a string\n",
                "    \"begin_date\": \"\",     # the start of a time window in YYYYMMDD format\n",
                "    \"end_date\":   \"\",     # the end of a time window in YYYYMMDD format, begin_date and end_date must be in the same year\n",
                "    \"minlat\":    0.0,\n",
                "    \"maxlat\":    0.0,\n",
                "    \"minlon\":    0.0,\n",
                "    \"maxlon\":    0.0,\n",
                "    \"param\":     \"\",     # a list of comma separated 5 digit codes, max 5 codes requested\n",
                "    \"pclass\":    \"\"      # parameter class is only used by the List calls\n",
                "}\n",
                "\n"
            ],
            "metadata": {
                "tags": [],
                "azdata_cell_guid": "c4307d84-1e8e-47ba-8c50-c08b44422d7e",
                "language": "python"
            },
            "outputs": [],
            "execution_count": 2
        },
        {
            "cell_type": "markdown",
            "source": [
                "The following cell defines the username and password that will be used to make requests to the API.\n",
                "\n",
                "  \n",
                "\n",
                "The public version of this notebook has redacted these variables for security reasons. In order to replicate the code here, one will need to obtain a set of credentials and store them in the respective variables."
            ],
            "metadata": {
                "language": "",
                "azdata_cell_guid": "f01ee3bb-b1a9-42bb-afcc-0b4fe2bf7afb"
            },
            "attachments": {}
        },
        {
            "cell_type": "code",
            "source": [
                "USERNAME = \"REDACTED\"\n",
                "APIKEY = \"REDACTED\"\n",
                ""
            ],
            "metadata": {
                "azdata_cell_guid": "e19d5b10-3dca-46ab-8017-b3802219c04b",
                "language": "python"
            },
            "outputs": [],
            "execution_count": 3
        },
        {
            "cell_type": "markdown",
            "source": [
                "The nect two cells define, and then use, a function that makes a list request for all of the sensor codes for sensors measuring the AQI of various air pollutants. It's included a sanity check, both to make sure the API is returning data, as well as to check that this notebook is requesting locations for relevant sensors."
            ],
            "metadata": {
                "language": "",
                "azdata_cell_guid": "bc658437-6a35-4205-8322-c71e71b8a7a7"
            },
            "attachments": {}
        },
        {
            "cell_type": "code",
            "source": [
                "#\r\n",
                "#    This implements the list request. There are several versions of the list request that only require email and key.\r\n",
                "#    This code sets the default action/requests to list the groups or parameter class descriptors. Having those descriptors \r\n",
                "#    allows one to request the individual (proprietary) 5 digit codes for individual air quality measures by using the\r\n",
                "#    param request. Some code in later cells will illustrate those requests.\r\n",
                "#\r\n",
                "def request_list_info(email_address = None, key = None,\r\n",
                "                      endpoint_url = API_REQUEST_URL, \r\n",
                "                      endpoint_action = API_ACTION_LIST_CLASSES, \r\n",
                "                      request_template = AQS_REQUEST_TEMPLATE,\r\n",
                "                      headers = None):\r\n",
                "    \r\n",
                "    #  Make sure we have email and key - at least\r\n",
                "    #  This prioritizes the info from the call parameters - not what's already in the template\r\n",
                "    if email_address:\r\n",
                "        request_template['email'] = email_address\r\n",
                "    if key:\r\n",
                "        request_template['key'] = key\r\n",
                "    \r\n",
                "    # For the basic request we need an email address and a key\r\n",
                "    if not request_template['email']:\r\n",
                "        raise Exception(\"Must supply an email address to call 'request_list_info()'\")\r\n",
                "    if not request_template['key']: \r\n",
                "        raise Exception(\"Must supply a key to call 'request_list_info()'\")\r\n",
                "\r\n",
                "    # compose the request\r\n",
                "    request_url = endpoint_url+endpoint_action.format(**request_template)\r\n",
                "        \r\n",
                "    # make the request\r\n",
                "    try:\r\n",
                "        # Wait first, to make sure we don't exceed a rate limit in the situation where an exception occurs\r\n",
                "        # during the request processing - throttling is always a good practice with a free data source\r\n",
                "        if API_THROTTLE_WAIT > 0.0:\r\n",
                "            time.sleep(API_THROTTLE_WAIT)\r\n",
                "        response = requests.get(request_url, headers=headers)\r\n",
                "        json_response = response.json()\r\n",
                "    except Exception as e:\r\n",
                "        print(e)\r\n",
                "        json_response = None\r\n",
                "    return json_response\r\n",
                "\r\n",
                ""
            ],
            "metadata": {
                "language": "python",
                "azdata_cell_guid": "fcbd4fa2-30d1-4a75-be77-c5cb9389a3e0"
            },
            "outputs": [],
            "execution_count": 4
        },
        {
            "cell_type": "code",
            "source": [
                "\n",
                "AQI_PARAM_CLASS = \"AQI POLLUTANTS\"\n",
                "\n",
                "#\n",
                "#   Structure a request to get the sensor IDs associated with the AQI\n",
                "#\n",
                "request_data = AQS_REQUEST_TEMPLATE.copy()\n",
                "request_data['email'] = USERNAME\n",
                "request_data['key'] = APIKEY\n",
                "request_data['pclass'] = AQI_PARAM_CLASS  # here we specify that we want this 'pclass' or parameter classs\n",
                "\n",
                "response = request_list_info(request_template=request_data, endpoint_action=API_ACTION_LIST_PARAMS)\n",
                "\n",
                "if response[\"Header\"][0]['status'] == \"Success\":\n",
                "    print(json.dumps(response['Data'],indent=4))\n",
                "else:\n",
                "    print(json.dumps(response,indent=4))\n",
                ""
            ],
            "metadata": {
                "collapsed": true,
                "jupyter": {
                    "outputs_hidden": true
                },
                "azdata_cell_guid": "b161e0e8-46d4-48cf-92a0-d36dd51317d5",
                "language": "python"
            },
            "outputs": [
                {
                    "output_type": "stream",
                    "name": "stdout",
                    "text": "[\n    {\n        \"code\": \"42101\",\n        \"value_represented\": \"Carbon monoxide\"\n    },\n    {\n        \"code\": \"42401\",\n        \"value_represented\": \"Sulfur dioxide\"\n    },\n    {\n        \"code\": \"42602\",\n        \"value_represented\": \"Nitrogen dioxide (NO2)\"\n    },\n    {\n        \"code\": \"44201\",\n        \"value_represented\": \"Ozone\"\n    },\n    {\n        \"code\": \"81102\",\n        \"value_represented\": \"PM10 Total 0-10um STP\"\n    },\n    {\n        \"code\": \"88101\",\n        \"value_represented\": \"PM2.5 - Local Conditions\"\n    },\n    {\n        \"code\": \"88502\",\n        \"value_represented\": \"Acceptable PM2.5 AQI & Speciation Mass\"\n    }\n]\n"
                }
            ],
            "execution_count": 5
        },
        {
            "cell_type": "code",
            "source": [
                "#\n",
                "#   Given the set of sensor codes, now we can create a parameter list or 'param' value as defined by the AQS API spec.\n",
                "#   It turns out that we want all of these measures for AQI, but we need to have two different param constants to get\n",
                "#   all seven of the code types. We can only have a max of 5 sensors/values request per param.\n",
                "#\n",
                "#   Gaseous AQI pollutants CO, SO2, NO2, and O2\n",
                "AQI_PARAMS_GASEOUS = \"42101,42401,42602,44201\"\n",
                "#\n",
                "#   Particulate AQI pollutants PM10, PM2.5, and Acceptable PM2.5\n",
                "AQI_PARAMS_PARTICULATES = \"81102,88101,88502\"\n",
                "#   \n",
                "#"
            ],
            "metadata": {
                "azdata_cell_guid": "e532527e-83bf-4f38-bd7e-e24b01ca80c0",
                "language": "python"
            },
            "outputs": [],
            "execution_count": 6
        },
        {
            "cell_type": "markdown",
            "source": [
                "The below cell defines a set of values that identify Clovis, NM and will be used to look for sensors in its vicinity."
            ],
            "metadata": {
                "azdata_cell_guid": "6f12e189-9fc2-46c9-8182-aa79e8a0dac0"
            },
            "attachments": {}
        },
        {
            "cell_type": "code",
            "source": [
                "CITY_LOCATIONS = {\n",
                "   'clovis' :        {'city'   : 'Clovis',\n",
                "                       'county' : 'Curry',\n",
                "                       'state'  : 'New Mexico',\n",
                "                       'fips'   : '35009',\n",
                "                       'latlon' : [34.4048, -103.2052]}\n",
                "}\n",
                ""
            ],
            "metadata": {
                "azdata_cell_guid": "4e34852a-0c78-4ad1-8f5a-10ce9fc283ec",
                "language": "python"
            },
            "outputs": [],
            "execution_count": 7
        },
        {
            "cell_type": "markdown",
            "source": [
                "## Looking for sensors with a bounding box\n",
                "\n",
                "The next four cells define two functions that can be used to define and then make an API request for available sensors using a bounding box (a range of latitude/longitude variables). They use the coordinates for a specific city and a 25 mile interval to look for sensors within a square-shaped bounding box centered on that city, with a length/width of the specified size, allowing the API to return sensors that are up to that many miles away.\n",
                ""
            ],
            "metadata": {
                "azdata_cell_guid": "374af022-27ad-4d4f-b949-4a571aabe140"
            },
            "attachments": {}
        },
        {
            "cell_type": "code",
            "source": [
                "#\n",
                "#   These are rough estimates for creating bounding boxes based on a city location\n",
                "#   You can find these rough estimates on the USGS website:\n",
                "#   https://www.usgs.gov/faqs/how-much-distance-does-a-degree-minute-and-second-cover-your-maps\n",
                "#\n",
                "LAT_25MILES = 25.0 * (1.0/69.0)    # This is about 25 miles of latitude in decimal degrees\n",
                "LON_25MILES = 25.0 * (1.0/54.6)    # This is about 25 miles of longitude in decimal degrees\n",
                "#\n",
                "#   Compute a rough estimates for a bounding box around a given place\n",
                "#   The bounding box is scaled in 50 mile increments. That is the bounding box will have sides that\n",
                "#   are rough multiples of 50 miles, with the center of the box around the indicated place.\n",
                "#   The scale parameter determines the scale (size) of the bounding box\n",
                "#\n",
                "def bounding_latlon(place=None,scale=1.0):\n",
                "    minlat = place['latlon'][0] - float(scale) * LAT_25MILES\n",
                "    maxlat = place['latlon'][0] + float(scale) * LAT_25MILES\n",
                "    minlon = place['latlon'][1] - float(scale) * LON_25MILES\n",
                "    maxlon = place['latlon'][1] + float(scale) * LON_25MILES\n",
                "    return [minlat,maxlat,minlon,maxlon]\n",
                "\n"
            ],
            "metadata": {
                "azdata_cell_guid": "0f934d0c-a583-46b0-a266-b3236d5202b6",
                "language": "python"
            },
            "outputs": [],
            "execution_count": 8
        },
        {
            "cell_type": "code",
            "source": [
                "#\n",
                "#    This implements the monitors request. This requests monitoring stations. This can be done by state, county, or bounding box. \n",
                "#\n",
                "#    Like the two other functions, this can be called with a mixture of a defined parameter dictionary, or with function\n",
                "#    parameters. If function parameters are provided, those take precedence over any parameters from the request template.\n",
                "#\n",
                "def request_monitors(email_address = None, key = None, param=None,\n",
                "                          begin_date = None, end_date = None, fips = None,\n",
                "                          endpoint_url = API_REQUEST_URL, \n",
                "                          endpoint_action = API_ACTION_MONITORS_COUNTY, \n",
                "                          request_template = AQS_REQUEST_TEMPLATE,\n",
                "                          headers = None):\n",
                "    \n",
                "    #  This prioritizes the info from the call parameters - not what's already in the template\n",
                "    if email_address:\n",
                "        request_template['email'] = email_address\n",
                "    if key:\n",
                "        request_template['key'] = key\n",
                "    if param:\n",
                "        request_template['param'] = param\n",
                "    if begin_date:\n",
                "        request_template['begin_date'] = begin_date\n",
                "    if end_date:\n",
                "        request_template['end_date'] = end_date\n",
                "    if fips and len(fips)==5:\n",
                "        request_template['state'] = fips[:2]\n",
                "        request_template['county'] = fips[2:]            \n",
                "\n",
                "    # Make sure there are values that allow us to make a call - these are always required\n",
                "    if not request_template['email']:\n",
                "        raise Exception(\"Must supply an email address to call 'request_monitors()'\")\n",
                "    if not request_template['key']: \n",
                "        raise Exception(\"Must supply a key to call 'request_monitors()'\")\n",
                "    if not request_template['param']: \n",
                "        raise Exception(\"Must supply param values to call 'request_monitors()'\")\n",
                "    if not request_template['begin_date']: \n",
                "        raise Exception(\"Must supply a begin_date to call 'request_monitors()'\")\n",
                "    if not request_template['end_date']: \n",
                "        raise Exception(\"Must supply an end_date to call 'request_monitors()'\")\n",
                "    # Note we're not validating FIPS fields because not all of the monitors actions require the FIPS numbers\n",
                "    \n",
                "    # compose the request\n",
                "    request_url = endpoint_url+endpoint_action.format(**request_template)\n",
                "    \n",
                "    # make the request\n",
                "    try:\n",
                "        # Wait first, to make sure we don't exceed a rate limit in the situation where an exception occurs\n",
                "        # during the request processing - throttling is always a good practice with a free data source\n",
                "        if API_THROTTLE_WAIT > 0.0:\n",
                "            time.sleep(API_THROTTLE_WAIT)\n",
                "        response = requests.get(request_url, headers=headers)\n",
                "        json_response = response.json()\n",
                "    except Exception as e:\n",
                "        print(e)\n",
                "        json_response = None\n",
                "    return json_response\n"
            ],
            "metadata": {
                "azdata_cell_guid": "659452e7-83a3-4fe6-9c5e-58329b70abcf",
                "language": "python"
            },
            "outputs": [],
            "execution_count": 9
        },
        {
            "cell_type": "code",
            "source": [
                "#\n",
                "#    Create a copy of the AQS_REQUEST_TEMPLATE\n",
                "#\n",
                "request_data = AQS_REQUEST_TEMPLATE.copy()\n",
                "request_data['email'] = USERNAME\n",
                "request_data['key'] = APIKEY\n",
                "request_data['param'] = AQI_PARAMS_PARTICULATES \n",
                "# \n",
                "#   Now, we need bounding box parameters\n",
                "\n",
                "#   130 mile box\n",
                "bbox = bounding_latlon(CITY_LOCATIONS['clovis'],scale=2.6)\n",
                "\n",
                "# the bbox response comes back as a list - [minlat,maxlat,minlon,maxlon]\n",
                "\n",
                "#   put our bounding box into the request_data\n",
                "request_data['minlat'] = bbox[0]\n",
                "request_data['maxlat'] = bbox[1]\n",
                "request_data['minlon'] = bbox[2]\n",
                "request_data['maxlon'] = bbox[3]\n",
                "\n",
                "#\n",
                "#   we need to change the action for the API from the default to the bounding box - same recent date for now\n",
                "response = request_monitors(request_template=request_data, begin_date=\"20210701\", end_date=\"20210731\",\n",
                "                            endpoint_action = API_ACTION_MONITORS_BOX)\n",
                "#\n",
                "#\n",
                "#\n",
                "if response[\"Header\"][0]['status'] == \"Success\":\n",
                "    print(json.dumps(response['Data'],indent=4))\n",
                "else:\n",
                "    print(json.dumps(response,indent=4))\n",
                ""
            ],
            "metadata": {
                "collapsed": true,
                "jupyter": {
                    "outputs_hidden": true
                },
                "azdata_cell_guid": "b3d97e21-2631-4aa3-8598-de55b7350b14",
                "language": "python"
            },
            "outputs": [
                {
                    "output_type": "stream",
                    "name": "stdout",
                    "text": "{\n    \"Header\": [\n        {\n            \"status\": \"No data matched your selection\",\n            \"request_time\": \"2023-12-11T20:54:31-05:00\",\n            \"url\": \"https://aqs.epa.gov/data/api/monitors/byBox?email=ramirost@live.com&key=mauvehare39&param=81102,88101,88502&bdate=20210701&edate=20210731&minlat=33.46277101449275&maxlat=35.34682898550725&minlon=-104.3956761904762&maxlon=-102.01472380952382\",\n            \"rows\": 0\n        }\n    ],\n    \"Data\": []\n}\n"
                }
            ],
            "execution_count": 10
        },
        {
            "cell_type": "markdown",
            "source": [
                "The above cell defines a bounding box centered on Clovis, with a side-length of 130 miles - in other words, the edges are up to 65 miles away from Clovis. This request does not find any sensors within the box, showing that the nearest sensors are even further than that from Clovis."
            ],
            "metadata": {
                "language": "python",
                "azdata_cell_guid": "a3f841a5-2bbb-4557-8e75-7c034f0c41bf"
            },
            "attachments": {}
        },
        {
            "cell_type": "code",
            "source": [
                "\n",
                "request_data = AQS_REQUEST_TEMPLATE.copy()\n",
                "request_data['email'] = USERNAME\n",
                "request_data['key'] = APIKEY\n",
                "request_data['param'] = AQI_PARAMS_PARTICULATES     # same particulate request as the one abover\n",
                "\n",
                "#   Now, we need bounding box parameters\n",
                "\n",
                "#   150 mile box - roughly within 75 miles of the location\n",
                "bbox = bounding_latlon(CITY_LOCATIONS['clovis'],scale=3.0)\n",
                "\n",
                "# the bbox response comes back as a list - [minlat,maxlat,minlon,maxlon]\n",
                "\n",
                "#   put our bounding box into the request_data\n",
                "request_data['minlat'] = bbox[0]\n",
                "request_data['maxlat'] = bbox[1]\n",
                "request_data['minlon'] = bbox[2]\n",
                "request_data['maxlon'] = bbox[3]\n",
                "\n",
                "#\n",
                "#   we need to change the action for the API from the default to the bounding box - same recent date for now\n",
                "response = request_monitors(request_template=request_data, begin_date=\"20210701\", end_date=\"20210731\",\n",
                "                            endpoint_action = API_ACTION_MONITORS_BOX)\n",
                "#\n",
                "#\n",
                "#\n",
                "if response[\"Header\"][0]['status'] == \"Success\":\n",
                "    print(json.dumps(response['Data'],indent=4))\n",
                "else:\n",
                "    print(json.dumps(response,indent=4))\n",
                ""
            ],
            "metadata": {
                "collapsed": true,
                "jupyter": {
                    "outputs_hidden": true
                },
                "azdata_cell_guid": "2ca9a239-1e78-4d75-953c-ff9464f7ac24",
                "language": "python"
            },
            "outputs": [
                {
                    "output_type": "stream",
                    "name": "stdout",
                    "text": "[\n    {\n        \"state_code\": \"35\",\n        \"county_code\": \"005\",\n        \"site_number\": \"9000\",\n        \"parameter_code\": \"88502\",\n        \"poc\": 1,\n        \"parameter_name\": \"Acceptable PM2.5 AQI & Speciation Mass\",\n        \"open_date\": \"2000-04-08\",\n        \"close_date\": null,\n        \"concurred_exclusions\": null,\n        \"dominant_source\": null,\n        \"measurement_scale\": \"REGIONAL SCALE\",\n        \"measurement_scale_def\": \"50 TO HUNDREDS KM\",\n        \"monitoring_objective\": \"GENERAL/BACKGROUND\",\n        \"last_method_code\": \"707\",\n        \"last_method_description\": \"IMPROVE Module A with Cyclone Inlet-Teflon Filter, 2.2 sq. cm. - GRAVIMETRIC\",\n        \"last_method_begin_date\": \"2000-04-08\",\n        \"naaqs_primary_monitor\": null,\n        \"qa_primary_monitor\": null,\n        \"monitor_type\": \"EPA\",\n        \"networks\": \"IMPROVE\",\n        \"monitoring_agency_code\": \"0745\",\n        \"monitoring_agency\": \"National Park Service\",\n        \"si_id\": 93210,\n        \"latitude\": 33.459914,\n        \"longitude\": -104.404711,\n        \"datum\": \"WGS84\",\n        \"lat_lon_accuracy\": 5.0,\n        \"elevation\": 1072.0,\n        \"probe_height\": null,\n        \"pl_probe_location\": null,\n        \"local_site_name\": null,\n        \"address\": \"Salt Creek\",\n        \"state_name\": \"New Mexico\",\n        \"county_name\": \"Chaves\",\n        \"city_name\": \"Not in a City\",\n        \"cbsa_code\": \"40740\",\n        \"cbsa_name\": \"Roswell, NM\",\n        \"csa_code\": null,\n        \"csa_name\": null,\n        \"tribal_code\": null,\n        \"tribe_name\": null\n    },\n    {\n        \"state_code\": \"48\",\n        \"county_code\": \"375\",\n        \"site_number\": \"0320\",\n        \"parameter_code\": \"88101\",\n        \"poc\": 2,\n        \"parameter_name\": \"PM2.5 - Local Conditions\",\n        \"open_date\": \"2018-07-12\",\n        \"close_date\": null,\n        \"concurred_exclusions\": null,\n        \"dominant_source\": null,\n        \"measurement_scale\": \"URBAN SCALE\",\n        \"measurement_scale_def\": \"4 KM TO 50 KM\",\n        \"monitoring_objective\": \"POPULATION EXPOSURE\",\n        \"last_method_code\": \"209\",\n        \"last_method_description\": \"Met One BAM-1022 Mass Monitor w/ VSCC or TE-PM2.5C - Beta Attenuation\",\n        \"last_method_begin_date\": \"2018-07-12\",\n        \"naaqs_primary_monitor\": \"Y\",\n        \"qa_primary_monitor\": null,\n        \"monitor_type\": \"SPM\",\n        \"networks\": null,\n        \"monitoring_agency_code\": \"1035\",\n        \"monitoring_agency\": \"Texas Commission On Environmental Quality\",\n        \"si_id\": 92360,\n        \"latitude\": 35.201592,\n        \"longitude\": -101.909275,\n        \"datum\": \"WGS84\",\n        \"lat_lon_accuracy\": 5.0,\n        \"elevation\": 1122.0,\n        \"probe_height\": null,\n        \"pl_probe_location\": null,\n        \"local_site_name\": \"Amarillo A&M\",\n        \"address\": \"6500 Amarillo Blvd West\",\n        \"state_name\": \"Texas\",\n        \"county_name\": \"Potter\",\n        \"city_name\": \"Amarillo\",\n        \"cbsa_code\": \"11100\",\n        \"cbsa_name\": \"Amarillo, TX\",\n        \"csa_code\": \"108\",\n        \"csa_name\": \"Amarillo-Borger, TX\",\n        \"tribal_code\": null,\n        \"tribe_name\": null\n    }\n]\n"
                }
            ],
            "execution_count": 11
        },
        {
            "cell_type": "markdown",
            "source": [
                "The above cell defines a bounding box centered on Clovis, with a side-length of 150 miles - in other words, the edges are up to 65 miles away from Clovis. This request finds 2 sensors within the box - one that's in Amarillo, and one that's in Roswell. This shows that there are no reasonably close sensors to Clovis."
            ],
            "metadata": {
                "language": "python",
                "azdata_cell_guid": "5aeb083c-1462-40d3-b835-b19366e6c82b"
            },
            "attachments": {}
        }
    ]
}