{
 "cells": [
  {
   "cell_type": "markdown",
   "metadata": {
    "azdata_cell_guid": "2414fd69-f46c-4a32-a626-443e65b26f5d",
    "language": "python"
   },
   "source": [
    "# Processing Input Data\n",
    "\n",
    "This notebook is meant to process data for use in generating visualizations for the Clovis, NM City Council Presentation. It generates CSVs that are easy to use with Pandas and Matplotlib in the next notebook.\n",
    "\n",
    "Unlike most Jupyter Notebooks, this notebook is meant to be used with an R kernel rather than a Python kernel, because the input files are .sta files, which R can easily handle with the haven package."
   ]
  },
  {
   "cell_type": "code",
   "execution_count": 1,
   "metadata": {
    "azdata_cell_guid": "10ff0d18-c7ab-4b12-ac0d-775e47ad14a4",
    "language": "sql"
   },
   "outputs": [
    {
     "name": "stderr",
     "output_type": "stream",
     "text": [
      "Warning message:\n",
      "\"package 'tidyverse' was built under R version 3.6.3\"\n",
      "-- \u001b[1mAttaching packages\u001b[22m ------------------------------------------------------------------------------- tidyverse 1.3.1 --\n",
      "\n",
      "\u001b[32mv\u001b[39m \u001b[34mggplot2\u001b[39m 3.3.5     \u001b[32mv\u001b[39m \u001b[34mpurrr  \u001b[39m 0.3.4\n",
      "\u001b[32mv\u001b[39m \u001b[34mtibble \u001b[39m 3.1.6     \u001b[32mv\u001b[39m \u001b[34mdplyr  \u001b[39m 1.0.8\n",
      "\u001b[32mv\u001b[39m \u001b[34mtidyr  \u001b[39m 1.2.0     \u001b[32mv\u001b[39m \u001b[34mstringr\u001b[39m 1.4.0\n",
      "\u001b[32mv\u001b[39m \u001b[34mreadr  \u001b[39m 2.1.2     \u001b[32mv\u001b[39m \u001b[34mforcats\u001b[39m 0.5.1\n",
      "\n",
      "Warning message:\n",
      "\"package 'purrr' was built under R version 3.6.3\"\n",
      "Warning message:\n",
      "\"package 'forcats' was built under R version 3.6.3\"\n",
      "-- \u001b[1mConflicts\u001b[22m ---------------------------------------------------------------------------------- tidyverse_conflicts() --\n",
      "\u001b[31mx\u001b[39m \u001b[34mdplyr\u001b[39m::\u001b[32mfilter()\u001b[39m masks \u001b[34mstats\u001b[39m::filter()\n",
      "\u001b[31mx\u001b[39m \u001b[34mdplyr\u001b[39m::\u001b[32mlag()\u001b[39m    masks \u001b[34mstats\u001b[39m::lag()\n",
      "\n"
     ]
    }
   ],
   "source": [
    "#This cell imports the R libraries that will be used to process the data\n",
    "library(haven)\n",
    "library(tidyverse) "
   ]
  },
  {
   "cell_type": "code",
   "execution_count": 2,
   "metadata": {
    "azdata_cell_guid": "2a8c48da-0988-4647-9073-9419b9ce5eb2",
    "language": "sql"
   },
   "outputs": [],
   "source": [
    "#This cell takes in the HMS smoke days data for U.S. counties and filters for only the tuples that contain \n",
    "#infortmation for Curry County, NM. It also drops all extraneous fields\n",
    "\n",
    "county_smoke_annual <- as.data.frame(read_dta(\"raw_data/county_smoke_annual.dta\"))\n",
    "#Fip for curry county is 35009\n",
    "target_FIPS_code <- 35009\n",
    "county_smoke_curry = filter(county_smoke_annual, COUNTY10 == target_FIPS_code)\n",
    "\n",
    "curry_NM_hms_data = data.frame(\n",
    "    county_fips = county_smoke_curry['COUNTY10'],\n",
    "    rfrnc_yr = county_smoke_curry['rfrnc_yr'],\n",
    "    num_smoke_days = county_smoke_curry['hms_deep_1'],\n",
    "    pm25 = county_smoke_curry['pm25']\n",
    "    \n",
    ")\n",
    "\n",
    "colnames(curry_NM_hms_data) <- c(\"county_fips\", \"rfrnc_yr\", \"num_smoke_days\", \"pm2.5\")\n",
    "\n",
    "write.csv(curry_NM_hms_data, \"processed_input_data/curry_NM_hms_data.csv\", row.names=FALSE)"
   ]
  },
  {
   "cell_type": "code",
   "execution_count": 3,
   "metadata": {
    "azdata_cell_guid": "ce97b606-8981-4d67-b71b-0b30feb6172b",
    "language": "sql"
   },
   "outputs": [],
   "source": [
    "#This cell takes in the QWI data, both aggregated by the total for each county/year and separated\n",
    "#into totals by age gropp, for U.S. counties and filters for only the tuples that contain infortmation\n",
    "#for Curry County, NM.\n",
    "\n",
    "qwi_agegrp_county_quarterly <- as.data.frame(read_dta(\"raw_data/qwi_agegrp_county_quarterly.dta\"))\n",
    "\n",
    "qwi_county_quarterly <- as.data.frame(read_dta(\"raw_data/qwi_county_quarterly.dta\"))\n",
    "\n",
    "curry_qwi_county_quarterly <-filter(qwi_county_quarterly, countyfip == target_FIPS_code)\n",
    "curry_qwi_agegrp_county_quarterly <-filter(qwi_agegrp_county_quarterly, countyfip == target_FIPS_code)\n",
    "\n",
    "\n",
    "write.csv(curry_qwi_county_quarterly, \"processed_input_data/curry_qwi_county_quarterly.csv\",\n",
    "          row.names = FALSE)\n",
    "write.csv(curry_qwi_agegrp_county_quarterly, \"processed_input_data/curry_qwi_agegrp_county_quarterly.csv\", \n",
    "          row.names = FALSE)"
   ]
  }
 ],
 "metadata": {
  "extensions": {
   "azuredatastudio": {
    "version": 1,
    "views": []
   }
  },
  "kernelspec": {
   "display_name": "R",
   "language": "R",
   "name": "ir"
  },
  "language_info": {
   "codemirror_mode": "r",
   "file_extension": ".r",
   "mimetype": "text/x-r-source",
   "name": "R",
   "pygments_lexer": "r",
   "version": "3.6.2"
  }
 },
 "nbformat": 4,
 "nbformat_minor": 2
}
