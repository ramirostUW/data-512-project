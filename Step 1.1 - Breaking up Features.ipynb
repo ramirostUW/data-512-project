{
    "metadata": {
        "kernelspec": {
            "name": "python3",
            "display_name": "Python 3",
            "language": "python"
        },
        "language_info": {
            "name": "python",
            "version": "3.11.1",
            "mimetype": "text/x-python",
            "codemirror_mode": {
                "name": "ipython",
                "version": 3
            },
            "pygments_lexer": "ipython3",
            "nbconvert_exporter": "python",
            "file_extension": ".py"
        },
        "extensions": {
            "azuredatastudio": {
                "version": 1,
                "views": []
            }
        }
    },
    "nbformat_minor": 2,
    "nbformat": 4,
    "cells": [
        {
            "cell_type": "markdown",
            "source": [
                "# Breaking up Features\n",
                "\n",
                "This notebook takes the individual JSONs each representing a single \"feature\" (IE wildfire) produced by the Step 1 Notebook and compiles all relevant fields and calculations into invidual CSV files so that they can later be used to produce visualizations.\n",
                "\n",
                "The code is mostly adapted from the example code written for this assignment by David McDonald, licensed under the Creative Commons license. It also makes use of the Wildfire Reader module written by him for this assignment, and licensed under the same conditions.\n",
                "\n",
                "To run the code, you will need the \"USGS\\_Wildland\\_Fire\\_Combined\\_Dataset.json\" that can be found within the \"GeoJSON Files\" zip archive available for download [here](https://www.sciencebase.gov/catalog/item/61aa537dd34eb622f699df81). Place the JSON file in the same folder as this notebook to run the code."
            ],
            "metadata": {
                "azdata_cell_guid": "e28c0c99-cd80-4bf7-a7c1-6a11dc8205bd"
            },
            "attachments": {}
        },
        {
            "cell_type": "code",
            "source": [
                "#This defines all of the packages and constants to be used in the notebook\r\n",
                "\r\n",
                "import os, json, time\r\n",
                "from pyproj import Transformer, Geod\r\n",
                "from wildfire.Reader import Reader as WFReader\r\n",
                "import geojson\r\n",
                "\r\n",
                "EXTRACT_FILENAME = \"USGS_Wildland_Fire_Combined_Dataset.json\"\r\n",
                "SAMPLE_DATA_FILENAME = EXTRACT_FILENAME"
            ],
            "metadata": {
                "azdata_cell_guid": "5076dbfe-d2fd-43d7-a428-7a04ba01e8a6",
                "tags": [],
                "language": "python"
            },
            "outputs": [],
            "execution_count": 1
        },
        {
            "cell_type": "markdown",
            "source": [
                "The below cell is copied almost verbatim from Dr. McDonald's example code, and is mostly here to test that the wildfire reader module was imported correctly and is able to see the JSON file."
            ],
            "metadata": {
                "azdata_cell_guid": "0f54c1da-bcf0-4f5c-ad91-8e1d235cd632"
            },
            "attachments": {}
        },
        {
            "cell_type": "code",
            "source": [
                "\r\n",
                "#This bit of code opens a new wildfire reader, gets the header information and prints it to the screen\r\n",
                "#\r\n",
                "print(f\"Attempting to open '{SAMPLE_DATA_FILENAME}' with wildfire.Reader() object\")\r\n",
                "wfreader = WFReader(SAMPLE_DATA_FILENAME)\r\n",
                "print()\r\n",
                "#\r\n",
                "#    Now print the header - it contains some useful information\r\n",
                "#\r\n",
                "header_dict = wfreader.header()\r\n",
                "header_keys = list(header_dict.keys())\r\n",
                "print(\"The header has the following keys:\")\r\n",
                "print(header_keys)\r\n",
                "print()\r\n",
                "print(\"Header Dictionary\")\r\n",
                "print(json.dumps(header_dict,indent=4))"
            ],
            "metadata": {
                "azdata_cell_guid": "5d5be761-ad05-406a-a9af-ad4245e244ea",
                "language": "python"
            },
            "outputs": [
                {
                    "output_type": "stream",
                    "name": "stdout",
                    "text": "Attempting to open 'USGS_Wildland_Fire_Combined_Dataset.json' with wildfire.Reader() object\n\nThe header has the following keys:\n['displayFieldName', 'fieldAliases', 'geometryType', 'spatialReference', 'fields']\n\nHeader Dictionary\n{\n    \"displayFieldName\": \"\",\n    \"fieldAliases\": {\n        \"OBJECTID\": \"OBJECTID\",\n        \"USGS_Assigned_ID\": \"USGS Assigned ID\",\n        \"Assigned_Fire_Type\": \"Assigned Fire Type\",\n        \"Fire_Year\": \"Fire Year\",\n        \"Fire_Polygon_Tier\": \"Fire Polygon Tier\",\n        \"Fire_Attribute_Tiers\": \"Fire Attribute Tiers\",\n        \"GIS_Acres\": \"GIS_Acres\",\n        \"GIS_Hectares\": \"GIS_Hectares\",\n        \"Source_Datasets\": \"Source Datasets\",\n        \"Listed_Fire_Types\": \"Listed Fire Types\",\n        \"Listed_Fire_Names\": \"Listed Fire Names\",\n        \"Listed_Fire_Codes\": \"Listed Fire Codes\",\n        \"Listed_Fire_IDs\": \"Listed Fire IDs\",\n        \"Listed_Fire_IRWIN_IDs\": \"Listed Fire IRWIN IDs\",\n        \"Listed_Fire_Dates\": \"Listed Fire Dates\",\n        \"Listed_Fire_Causes\": \"Listed Fire Causes\",\n        \"Listed_Fire_Cause_Class\": \"Listed Fire Cause Class\",\n        \"Listed_Rx_Reported_Acres\": \"Listed Rx Reported Acres\",\n        \"Listed_Map_Digitize_Methods\": \"Listed Map Digitize Methods\",\n        \"Listed_Notes\": \"Listed Notes\",\n        \"Processing_Notes\": \"Processing Notes\",\n        \"Wildfire_Notice\": \"Wildfire Notice\",\n        \"Prescribed_Burn_Notice\": \"Prescribed Burn Notice\",\n        \"Wildfire_and_Rx_Flag\": \"Wildfire and Rx Flag\",\n        \"Overlap_Within_1_or_2_Flag\": \"Overlap Within 1 or 2 Years Flag\",\n        \"Circleness_Scale\": \"Circleness Scale\",\n        \"Circle_Flag\": \"Circle Flag\",\n        \"Exclude_From_Summary_Rasters\": \"Exclude From Summary Rasters\",\n        \"Shape_Length\": \"Shape_Length\",\n        \"Shape_Area\": \"Shape_Area\"\n    },\n    \"geometryType\": \"esriGeometryPolygon\",\n    \"spatialReference\": {\n        \"wkid\": 102008,\n        \"latestWkid\": 102008\n    },\n    \"fields\": [\n        {\n            \"name\": \"OBJECTID\",\n            \"type\": \"esriFieldTypeOID\",\n            \"alias\": \"OBJECTID\"\n        },\n        {\n            \"name\": \"USGS_Assigned_ID\",\n            \"type\": \"esriFieldTypeInteger\",\n            \"alias\": \"USGS Assigned ID\"\n        },\n        {\n            \"name\": \"Assigned_Fire_Type\",\n            \"type\": \"esriFieldTypeString\",\n            \"alias\": \"Assigned Fire Type\",\n            \"length\": 100\n        },\n        {\n            \"name\": \"Fire_Year\",\n            \"type\": \"esriFieldTypeSmallInteger\",\n            \"alias\": \"Fire Year\"\n        },\n        {\n            \"name\": \"Fire_Polygon_Tier\",\n            \"type\": \"esriFieldTypeSmallInteger\",\n            \"alias\": \"Fire Polygon Tier\"\n        },\n        {\n            \"name\": \"Fire_Attribute_Tiers\",\n            \"type\": \"esriFieldTypeString\",\n            \"alias\": \"Fire Attribute Tiers\",\n            \"length\": 30000\n        },\n        {\n            \"name\": \"GIS_Acres\",\n            \"type\": \"esriFieldTypeDouble\",\n            \"alias\": \"GIS_Acres\"\n        },\n        {\n            \"name\": \"GIS_Hectares\",\n            \"type\": \"esriFieldTypeDouble\",\n            \"alias\": \"GIS_Hectares\"\n        },\n        {\n            \"name\": \"Source_Datasets\",\n            \"type\": \"esriFieldTypeString\",\n            \"alias\": \"Source Datasets\",\n            \"length\": 500000\n        },\n        {\n            \"name\": \"Listed_Fire_Types\",\n            \"type\": \"esriFieldTypeString\",\n            \"alias\": \"Listed Fire Types\",\n            \"length\": 100000\n        },\n        {\n            \"name\": \"Listed_Fire_Names\",\n            \"type\": \"esriFieldTypeString\",\n            \"alias\": \"Listed Fire Names\",\n            \"length\": 100000\n        },\n        {\n            \"name\": \"Listed_Fire_Codes\",\n            \"type\": \"esriFieldTypeString\",\n            \"alias\": \"Listed Fire Codes\",\n            \"length\": 100000\n        },\n        {\n            \"name\": \"Listed_Fire_IDs\",\n            \"type\": \"esriFieldTypeString\",\n            \"alias\": \"Listed Fire IDs\",\n            \"length\": 30000\n        },\n        {\n            \"name\": \"Listed_Fire_IRWIN_IDs\",\n            \"type\": \"esriFieldTypeString\",\n            \"alias\": \"Listed Fire IRWIN IDs\",\n            \"length\": 30000\n        },\n        {\n            \"name\": \"Listed_Fire_Dates\",\n            \"type\": \"esriFieldTypeString\",\n            \"alias\": \"Listed Fire Dates\",\n            \"length\": 500000\n        },\n        {\n            \"name\": \"Listed_Fire_Causes\",\n            \"type\": \"esriFieldTypeString\",\n            \"alias\": \"Listed Fire Causes\",\n            \"length\": 100000\n        },\n        {\n            \"name\": \"Listed_Fire_Cause_Class\",\n            \"type\": \"esriFieldTypeString\",\n            \"alias\": \"Listed Fire Cause Class\",\n            \"length\": 100000\n        },\n        {\n            \"name\": \"Listed_Rx_Reported_Acres\",\n            \"type\": \"esriFieldTypeString\",\n            \"alias\": \"Listed Rx Reported Acres\",\n            \"length\": 10000\n        },\n        {\n            \"name\": \"Listed_Map_Digitize_Methods\",\n            \"type\": \"esriFieldTypeString\",\n            \"alias\": \"Listed Map Digitize Methods\",\n            \"length\": 100000\n        },\n        {\n            \"name\": \"Listed_Notes\",\n            \"type\": \"esriFieldTypeString\",\n            \"alias\": \"Listed Notes\",\n            \"length\": 30000\n        },\n        {\n            \"name\": \"Processing_Notes\",\n            \"type\": \"esriFieldTypeString\",\n            \"alias\": \"Processing Notes\",\n            \"length\": 30000\n        },\n        {\n            \"name\": \"Wildfire_Notice\",\n            \"type\": \"esriFieldTypeString\",\n            \"alias\": \"Wildfire Notice\",\n            \"length\": 700\n        },\n        {\n            \"name\": \"Prescribed_Burn_Notice\",\n            \"type\": \"esriFieldTypeString\",\n            \"alias\": \"Prescribed Burn Notice\",\n            \"length\": 700\n        },\n        {\n            \"name\": \"Wildfire_and_Rx_Flag\",\n            \"type\": \"esriFieldTypeString\",\n            \"alias\": \"Wildfire and Rx Flag\",\n            \"length\": 1000\n        },\n        {\n            \"name\": \"Overlap_Within_1_or_2_Flag\",\n            \"type\": \"esriFieldTypeString\",\n            \"alias\": \"Overlap Within 1 or 2 Years Flag\",\n            \"length\": 8000\n        },\n        {\n            \"name\": \"Circleness_Scale\",\n            \"type\": \"esriFieldTypeDouble\",\n            \"alias\": \"Circleness Scale\"\n        },\n        {\n            \"name\": \"Circle_Flag\",\n            \"type\": \"esriFieldTypeSmallInteger\",\n            \"alias\": \"Circle Flag\"\n        },\n        {\n            \"name\": \"Exclude_From_Summary_Rasters\",\n            \"type\": \"esriFieldTypeString\",\n            \"alias\": \"Exclude From Summary Rasters\",\n            \"length\": 3\n        },\n        {\n            \"name\": \"Shape_Length\",\n            \"type\": \"esriFieldTypeDouble\",\n            \"alias\": \"Shape_Length\"\n        },\n        {\n            \"name\": \"Shape_Area\",\n            \"type\": \"esriFieldTypeDouble\",\n            \"alias\": \"Shape_Area\"\n        }\n    ]\n}\n"
                }
            ],
            "execution_count": 2
        },
        {
            "cell_type": "markdown",
            "source": [
                "The below cell is also copied almost verbatim from Dr. McDonald's example code, licensed under the aforementioned conditions, and is here to load the dataset into memory as a dict. The Max\\_Feature\\_Load constant was set to an arbitrarily high number so that every element in the 2GB JSON input file can be read."
            ],
            "metadata": {
                "azdata_cell_guid": "5921c882-62e2-4732-9fc2-27796233db92"
            },
            "attachments": {}
        },
        {
            "cell_type": "code",
            "source": [
                "#\r\n",
                "#    This sample code will load the whole sample file, or a small amount of the complete dataset.\r\n",
                "#\r\n",
                "MAX_FEATURE_LOAD = 100000000\r\n",
                "feature_list = list()\r\n",
                "feature_count = 0\r\n",
                "# A rewind() on the reader object makes sure we're at the start of the feature list\r\n",
                "# This way, we can execute this cell multiple times and get the same result \r\n",
                "wfreader.rewind()\r\n",
                "# Now, read through each of the features, saving them as dictionaries into a list\r\n",
                "feature = wfreader.next()\r\n",
                "while feature:\r\n",
                "    feature_list.append(feature)\r\n",
                "    feature_count += 1\r\n",
                "    # if we're loading a lot of features, print progress\r\n",
                "    if (feature_count % 5000) == 0:\r\n",
                "        print(f\"Loaded {feature_count} features\")\r\n",
                "    # loaded the max we're allowed then break\r\n",
                "    if feature_count >= MAX_FEATURE_LOAD:\r\n",
                "        break\r\n",
                "    feature = wfreader.next()\r\n",
                "#\r\n",
                "#    Print the number of items (features) we think we loaded\r\n",
                "print(f\"Loaded a total of {feature_count} features\")\r\n",
                "#\r\n",
                "#    Just a validation check - did all the items we loaded get into the list?\r\n",
                "print(f\"Variable 'feature_list' contains {len(feature_list)} features\")\r\n",
                "\r\n",
                "\r\n",
                ""
            ],
            "metadata": {
                "azdata_cell_guid": "ef2562ab-cc81-4a4f-bcb3-084d23424112",
                "language": "python"
            },
            "outputs": [
                {
                    "output_type": "stream",
                    "name": "stdout",
                    "text": "Loaded 5000 features\n"
                },
                {
                    "output_type": "stream",
                    "name": "stdout",
                    "text": "Loaded 10000 features\n"
                },
                {
                    "output_type": "stream",
                    "name": "stdout",
                    "text": "Loaded 15000 features\n"
                },
                {
                    "output_type": "stream",
                    "name": "stdout",
                    "text": "Loaded 20000 features\n"
                },
                {
                    "output_type": "stream",
                    "name": "stdout",
                    "text": "Loaded 25000 features\n"
                },
                {
                    "output_type": "stream",
                    "name": "stdout",
                    "text": "Loaded 30000 features\n"
                },
                {
                    "output_type": "stream",
                    "name": "stdout",
                    "text": "Loaded 35000 features\n"
                },
                {
                    "output_type": "stream",
                    "name": "stdout",
                    "text": "Loaded 40000 features\n"
                },
                {
                    "output_type": "stream",
                    "name": "stdout",
                    "text": "Loaded 45000 features\n"
                },
                {
                    "output_type": "stream",
                    "name": "stdout",
                    "text": "Loaded 50000 features\n"
                },
                {
                    "output_type": "stream",
                    "name": "stdout",
                    "text": "Loaded 55000 features\n"
                },
                {
                    "output_type": "stream",
                    "name": "stdout",
                    "text": "Loaded 60000 features\n"
                },
                {
                    "output_type": "stream",
                    "name": "stdout",
                    "text": "Loaded 65000 features\n"
                },
                {
                    "output_type": "stream",
                    "name": "stdout",
                    "text": "Loaded 70000 features\n"
                },
                {
                    "output_type": "stream",
                    "name": "stdout",
                    "text": "Loaded 75000 features\n"
                },
                {
                    "output_type": "stream",
                    "name": "stdout",
                    "text": "Loaded 80000 features\n"
                },
                {
                    "output_type": "stream",
                    "name": "stdout",
                    "text": "Loaded 85000 features\n"
                },
                {
                    "output_type": "stream",
                    "name": "stdout",
                    "text": "Loaded 90000 features\n"
                },
                {
                    "output_type": "stream",
                    "name": "stdout",
                    "text": "Loaded 95000 features\n"
                },
                {
                    "output_type": "stream",
                    "name": "stdout",
                    "text": "Loaded 100000 features\n"
                },
                {
                    "output_type": "stream",
                    "name": "stdout",
                    "text": "Loaded 105000 features\n"
                },
                {
                    "output_type": "stream",
                    "name": "stdout",
                    "text": "Loaded 110000 features\n"
                },
                {
                    "output_type": "stream",
                    "name": "stdout",
                    "text": "Loaded 115000 features\n"
                },
                {
                    "output_type": "stream",
                    "name": "stdout",
                    "text": "Loaded 120000 features\n"
                },
                {
                    "output_type": "stream",
                    "name": "stdout",
                    "text": "Loaded 125000 features\n"
                },
                {
                    "output_type": "stream",
                    "name": "stdout",
                    "text": "Loaded 130000 features\n"
                },
                {
                    "output_type": "stream",
                    "name": "stdout",
                    "text": "Loaded 135000 features\nLoaded a total of 135061 features\nVariable 'feature_list' contains 135061 features\n"
                }
            ],
            "execution_count": 3
        },
        {
            "cell_type": "markdown",
            "source": [
                "TThe below cell is also copied exactly verbatim from Dr. McDonald's example code, licensed under the aforementioned conditions. It contains helper functions that take in a latitude-longitude point and ring data from a wildfire, and output either the distance between the closest part of the wildfire and that point, or the average distance between the entire wildfire and that point. These calculations will be stored in the CSVs made by this notebook for use in visualizations."
            ],
            "metadata": {
                "azdata_cell_guid": "dc083876-b6ab-47f5-a0a3-5d8baba74fd3"
            },
            "attachments": {}
        },
        {
            "cell_type": "code",
            "source": [
                "#\r\n",
                "#    Transform feature geometry data\r\n",
                "#\r\n",
                "#    The function takes one parameter, a list of ESRI:102008 coordinates that will be transformed to EPSG:4326\r\n",
                "#    The function returns a list of coordinates in EPSG:4326\r\n",
                "def convert_ring_to_epsg4326(ring_data=None):\r\n",
                "    converted_ring = list()\r\n",
                "    #\r\n",
                "    # We use a pyproj transformer that converts from ESRI:102008 to EPSG:4326 to transform the list of coordinates\r\n",
                "    to_epsg4326 = Transformer.from_crs(\"ESRI:102008\",\"EPSG:4326\")\r\n",
                "    # We'll run through the list transforming each ESRI:102008 x,y coordinate into a decimal degree lat,lon\r\n",
                "    for coord in ring_data:\r\n",
                "        lat,lon = to_epsg4326.transform(coord[0],coord[1])\r\n",
                "        new_coord = lat,lon\r\n",
                "        converted_ring.append(new_coord)\r\n",
                "    return converted_ring\r\n",
                "\r\n",
                "#    \r\n",
                "#    The function takes two parameters\r\n",
                "#        A place - which is coordinate point (list or tuple with two items, (lat,lon) in decimal degrees EPSG:4326\r\n",
                "#        Ring_data - a list of decimal degree coordinates for the fire boundary\r\n",
                "#\r\n",
                "#    The function returns a list containing the shortest distance to the perimeter and the point where that is\r\n",
                "#\r\n",
                "def shortest_distance_from_place_to_fire_perimeter(place=None,ring_data=None):\r\n",
                "    # convert the ring data to the right coordinate system\r\n",
                "    ring = convert_ring_to_epsg4326(ring_data)    \r\n",
                "    # create a epsg4326 compliant object - which is what the WGS84 ellipsoid is\r\n",
                "    geodcalc = Geod(ellps='WGS84')\r\n",
                "    closest_point = list()\r\n",
                "    # run through each point in the converted ring data\r\n",
                "    for point in ring:\r\n",
                "        # calculate the distance\r\n",
                "        d = geodcalc.inv(place[1],place[0],point[1],point[0])\r\n",
                "        # convert the distance to miles\r\n",
                "        distance_in_miles = d[2]*0.00062137\r\n",
                "        # if it's closer to the city than the point we have, save it\r\n",
                "        if not closest_point:\r\n",
                "            closest_point.append(distance_in_miles)\r\n",
                "            closest_point.append(point)\r\n",
                "        elif closest_point and closest_point[0]>distance_in_miles:\r\n",
                "            closest_point = list()\r\n",
                "            closest_point.append(distance_in_miles)\r\n",
                "            closest_point.append(point)\r\n",
                "    return closest_point\r\n",
                "\r\n",
                "\r\n",
                "\r\n",
                "#    \r\n",
                "#    The function takes two parameters\r\n",
                "#        A place - which is coordinate point (list or tuple with two items, (lat,lon) in decimal degrees EPSG:4326\r\n",
                "#        Ring_data - a list of decimal degree coordinates for the fire boundary\r\n",
                "#\r\n",
                "#    The function returns the average miles from boundary to the place\r\n",
                "#\r\n",
                "def average_distance_from_place_to_fire_perimeter(place=None,ring_data=None):\r\n",
                "    # convert the ring data to the right coordinate system\r\n",
                "    ring = convert_ring_to_epsg4326(ring_data)    \r\n",
                "    # create a epsg4326 compliant object - which is what the WGS84 ellipsoid is\r\n",
                "    geodcalc = Geod(ellps='WGS84')\r\n",
                "    # create a list to store our results\r\n",
                "    distances_in_meters = list()\r\n",
                "    # run through each point in the converted ring data\r\n",
                "    for point in ring:\r\n",
                "        # calculate the distance\r\n",
                "        d = geodcalc.inv(place[1],place[0],point[1],point[0])\r\n",
                "        distances_in_meters.append(d[2])\r\n",
                "    #print(\"Got the following list:\",distances_in_meters)\r\n",
                "    # convert meters to miles\r\n",
                "    distances_in_miles = [meters*0.00062137 for meters in distances_in_meters]\r\n",
                "    # the esri polygon shape (the ring) requires that the first and last coordinates be identical to 'close the region\r\n",
                "    # we remove one of them so that we don't bias our average by having two of the same point\r\n",
                "    distances_in_miles_no_dup = distances_in_miles[1:]\r\n",
                "    # now, average miles\r\n",
                "    average = sum(distances_in_miles_no_dup)/len(distances_in_miles_no_dup)\r\n",
                "    return average\r\n",
                ""
            ],
            "metadata": {
                "azdata_cell_guid": "c2272bc1-7290-447a-a026-472cda5ff491",
                "language": "python"
            },
            "outputs": [],
            "execution_count": 15
        },
        {
            "cell_type": "markdown",
            "source": [
                "The below cell is adapted from Dr. McDonald's example code, licensed under the aforementioned conditions, and stores all of the individual \"features\" as individual JSON files in the folder specified by the \"destination\\_folder\" variable. Inside that folder, the JSONs will be organized into subfolders based on the year in which their wildfire happened, and then inside those based on whether or not the fires were in range of my target city (within 1250 miles of it). In practice, the code classified every wildfire as being in range, but this was compensated for in Notebook 3 to avoid having to re-run this cell, which is quite slow."
            ],
            "metadata": {
                "azdata_cell_guid": "f22dd4bb-406d-4537-99ab-40334eceaed2"
            },
            "attachments": {}
        },
        {
            "cell_type": "code",
            "source": [
                "feature_subset = feature_list[0:13]\r\n",
                "my_index = 0;\r\n",
                "destination_folder = \"feature_list\"\r\n",
                "for wf_feature in feature_list:\r\n",
                "    if (my_index % 5000) == 0:\r\n",
                "        print(f\"Saved {my_index} features\")\r\n",
                "    \r\n",
                "    wf_year = wf_feature['attributes']['Fire_Year']\r\n",
                "    \r\n",
                "    #I originally attempted to orgsnize the individual JSONs as \"in range\" and \"out of range\"\r\n",
                "    #when compared to the location of my target city. Unfortinately, my code to determine \r\n",
                "    #the distance of each wildfire relative to my target city was bugged and labeled\r\n",
                "    #every fire as in range. I accounted for this in later notebooks and successfully calculated\r\n",
                "    #the distance relative to my target city for each wildfire in the notebook after this one. \r\n",
                "    #\r\n",
                "    #I have commented out my distance code in this cell so that the code will run faster on repeat\r\n",
                "    #runs. The lack of meaning in this variable is not a problem, due to being accounted for in later \r\n",
                "    #notebooks, as previously mentioned. \r\n",
                "    distance =  [0, 0] #shortest_distance_from_place_to_fire_perimeter(place['latlon'],ring_data)\r\n",
                "    \r\n",
                "    #print(distance)\r\n",
                "    within_city = (distance[0] <= 1250)\r\n",
                "    if within_city:\r\n",
                "        city_string = \"in_range\"\r\n",
                "    else:\r\n",
                "        city_string = \"not_within_range\"\r\n",
                "    year_folder = destination_folder + \"/\" + str(wf_year) + \"/\" + city_string + \"/\"\r\n",
                "    if (not os.path.exists(year_folder)) :\r\n",
                "        os.makedirs(year_folder)\r\n",
                "\r\n",
                "    with open(year_folder + str(my_index) + \".json\", \"w\") as outfile: \r\n",
                "        json.dump(wf_feature, outfile)\r\n",
                "\r\n",
                "    my_index = my_index + 1"
            ],
            "metadata": {
                "azdata_cell_guid": "b1f42849-9b70-4679-a807-7399e1b566b2",
                "language": "python"
            },
            "outputs": [
                {
                    "output_type": "stream",
                    "name": "stdout",
                    "text": "Saved 0 features\n"
                },
                {
                    "output_type": "stream",
                    "name": "stdout",
                    "text": "Saved 5000 features\n"
                },
                {
                    "output_type": "stream",
                    "name": "stdout",
                    "text": "Saved 10000 features\n"
                },
                {
                    "output_type": "stream",
                    "name": "stdout",
                    "text": "Saved 15000 features\n"
                },
                {
                    "output_type": "stream",
                    "name": "stdout",
                    "text": "Saved 20000 features\n"
                },
                {
                    "output_type": "stream",
                    "name": "stdout",
                    "text": "Saved 25000 features\n"
                },
                {
                    "output_type": "stream",
                    "name": "stdout",
                    "text": "Saved 30000 features\n"
                },
                {
                    "output_type": "stream",
                    "name": "stdout",
                    "text": "Saved 35000 features\n"
                },
                {
                    "output_type": "stream",
                    "name": "stdout",
                    "text": "Saved 40000 features\n"
                },
                {
                    "output_type": "stream",
                    "name": "stdout",
                    "text": "Saved 45000 features\n"
                },
                {
                    "output_type": "stream",
                    "name": "stdout",
                    "text": "Saved 50000 features\n"
                },
                {
                    "output_type": "stream",
                    "name": "stdout",
                    "text": "Saved 55000 features\n"
                },
                {
                    "output_type": "stream",
                    "name": "stdout",
                    "text": "Saved 60000 features\n"
                },
                {
                    "output_type": "stream",
                    "name": "stdout",
                    "text": "Saved 65000 features\n"
                },
                {
                    "output_type": "stream",
                    "name": "stdout",
                    "text": "Saved 70000 features\n"
                },
                {
                    "output_type": "stream",
                    "name": "stdout",
                    "text": "Saved 75000 features\n"
                },
                {
                    "output_type": "stream",
                    "name": "stdout",
                    "text": "Saved 80000 features\n"
                },
                {
                    "output_type": "stream",
                    "name": "stdout",
                    "text": "Saved 85000 features\n"
                },
                {
                    "output_type": "stream",
                    "name": "stdout",
                    "text": "Saved 90000 features\n"
                },
                {
                    "output_type": "stream",
                    "name": "stdout",
                    "text": "Saved 95000 features\n"
                },
                {
                    "output_type": "stream",
                    "name": "stdout",
                    "text": "Saved 100000 features\n"
                },
                {
                    "output_type": "stream",
                    "name": "stdout",
                    "text": "Saved 105000 features\n"
                },
                {
                    "output_type": "stream",
                    "name": "stdout",
                    "text": "Saved 110000 features\n"
                },
                {
                    "output_type": "stream",
                    "name": "stdout",
                    "text": "Saved 115000 features\n"
                },
                {
                    "output_type": "stream",
                    "name": "stdout",
                    "text": "Saved 120000 features\n"
                },
                {
                    "output_type": "stream",
                    "name": "stdout",
                    "text": "Saved 125000 features\n"
                },
                {
                    "output_type": "stream",
                    "name": "stdout",
                    "text": "Saved 130000 features\n"
                },
                {
                    "output_type": "stream",
                    "name": "stdout",
                    "text": "Saved 135000 features\n"
                }
            ],
            "execution_count": 19
        }
    ]
}